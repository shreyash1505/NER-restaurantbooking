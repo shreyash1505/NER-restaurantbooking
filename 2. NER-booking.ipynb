{
 "cells": [
  {
   "cell_type": "code",
   "execution_count": 1,
   "metadata": {},
   "outputs": [
    {
     "name": "stderr",
     "output_type": "stream",
     "text": [
      "C:\\ProgramData\\Anaconda3\\envs\\py36\\lib\\site-packages\\h5py\\__init__.py:36: FutureWarning: Conversion of the second argument of issubdtype from `float` to `np.floating` is deprecated. In future, it will be treated as `np.float64 == np.dtype(float).type`.\n",
      "  from ._conv import register_converters as _register_converters\n",
      "Using TensorFlow backend.\n"
     ]
    }
   ],
   "source": [
    "import numpy as np \n",
    "import pandas as pd \n",
    "from subprocess import check_output\n",
    "import matplotlib.pyplot as plt\n",
    "%matplotlib inline\n",
    "from keras.preprocessing.sequence import pad_sequences\n",
    "from keras.utils import to_categorical\n",
    "from sklearn.model_selection import train_test_split\n",
    "from keras.models import Model, Input\n",
    "from keras.layers import LSTM, Embedding, Dense, TimeDistributed, Dropout, Bidirectional\n",
    "from keras.preprocessing import sequence\n",
    "from keras.models import Sequential,Model,load_model\n",
    "from keras.layers import Embedding,Conv1D,MaxPooling1D\n",
    "from keras.layers.core import Dense, Activation,Dropout ,Flatten\n",
    "from keras.layers.recurrent import LSTM\n",
    "from keras.utils import np_utils\n",
    "from keras.preprocessing.image import ImageDataGenerator\n",
    "from keras.preprocessing import sequence\n",
    "from keras.preprocessing.text import text_to_word_sequence,one_hot,Tokenizer\n",
    "from keras.constraints import maxnorm"
   ]
  },
  {
   "cell_type": "code",
   "execution_count": 2,
   "metadata": {},
   "outputs": [],
   "source": [
    "seed = 120\n",
    "np.random.seed(seed)"
   ]
  },
  {
   "cell_type": "code",
   "execution_count": 3,
   "metadata": {},
   "outputs": [
    {
     "data": {
      "text/html": [
       "<div>\n",
       "<style scoped>\n",
       "    .dataframe tbody tr th:only-of-type {\n",
       "        vertical-align: middle;\n",
       "    }\n",
       "\n",
       "    .dataframe tbody tr th {\n",
       "        vertical-align: top;\n",
       "    }\n",
       "\n",
       "    .dataframe thead th {\n",
       "        text-align: right;\n",
       "    }\n",
       "</style>\n",
       "<table border=\"1\" class=\"dataframe\">\n",
       "  <thead>\n",
       "    <tr style=\"text-align: right;\">\n",
       "      <th></th>\n",
       "      <th>sentence_index</th>\n",
       "      <th>word</th>\n",
       "      <th>tag</th>\n",
       "    </tr>\n",
       "  </thead>\n",
       "  <tbody>\n",
       "    <tr>\n",
       "      <th>0</th>\n",
       "      <td>0</td>\n",
       "      <td>book</td>\n",
       "      <td>O</td>\n",
       "    </tr>\n",
       "    <tr>\n",
       "      <th>1</th>\n",
       "      <td>0</td>\n",
       "      <td>The Middle East</td>\n",
       "      <td>restaurant_name</td>\n",
       "    </tr>\n",
       "    <tr>\n",
       "      <th>2</th>\n",
       "      <td>0</td>\n",
       "      <td>restaurant</td>\n",
       "      <td>restaurant_type</td>\n",
       "    </tr>\n",
       "    <tr>\n",
       "      <th>3</th>\n",
       "      <td>0</td>\n",
       "      <td>in</td>\n",
       "      <td>O</td>\n",
       "    </tr>\n",
       "    <tr>\n",
       "      <th>4</th>\n",
       "      <td>0</td>\n",
       "      <td>IN</td>\n",
       "      <td>state</td>\n",
       "    </tr>\n",
       "  </tbody>\n",
       "</table>\n",
       "</div>"
      ],
      "text/plain": [
       "   sentence_index             word              tag\n",
       "0               0             book                O\n",
       "1               0  The Middle East  restaurant_name\n",
       "2               0       restaurant  restaurant_type\n",
       "3               0               in                O\n",
       "4               0               IN            state"
      ]
     },
     "execution_count": 3,
     "metadata": {},
     "output_type": "execute_result"
    }
   ],
   "source": [
    "train_path = './data/train/train_book_restaurant.csv'\n",
    "train_df = pd.read_csv(train_path)# Loading a csv file with headers \n",
    "train_df.head()"
   ]
  },
  {
   "cell_type": "code",
   "execution_count": 4,
   "metadata": {},
   "outputs": [
    {
     "name": "stdout",
     "output_type": "stream",
     "text": [
      "[[('book', 'O'), ('The Middle East', 'restaurant_name'), ('restaurant', 'restaurant_type'), (' in', 'O'), ('IN', 'state'), (' for', 'O'), ('noon', 'timeRange')]]\n"
     ]
    }
   ],
   "source": [
    "class SentenceGetter(object):\n",
    "    def __init__(self, dataset):\n",
    "        self.n_sent = 1\n",
    "        self.dataset = dataset\n",
    "        self.empty = False\n",
    "        agg_func = lambda s: [(w,t) for w, t in zip(s[\"word\"].values.tolist(),s[\"tag\"].values.tolist())]\n",
    "        self.grouped = self.dataset.groupby(\"sentence_index\").apply(agg_func)\n",
    "        self.sentences = [s for s in self.grouped]\n",
    "getter = SentenceGetter(train_df)\n",
    "sentences = getter.sentences\n",
    "# 1st sentence \n",
    "print(sentences[0:1])"
   ]
  },
  {
   "cell_type": "code",
   "execution_count": 6,
   "metadata": {},
   "outputs": [
    {
     "name": "stdout",
     "output_type": "stream",
     "text": [
      "max length: 13\n"
     ]
    }
   ],
   "source": [
    "maxlen = max([len(s) for s in sentences])\n",
    "print ('max length:', maxlen)"
   ]
  },
  {
   "cell_type": "code",
   "execution_count": 7,
   "metadata": {},
   "outputs": [
    {
     "data": {
      "image/png": "[encoded data removed]",
      "text/plain": [
       "<matplotlib.figure.Figure at 0x1e7aaeeaa20>"
      ]
     },
     "metadata": {},
     "output_type": "display_data"
    }
   ],
   "source": [
    "# Check how long sentences are so that we can pad them\n",
    "plt.style.use(\"ggplot\")\n",
    "plt.hist([len(s) for s in sentences], bins=30)\n",
    "\n",
    "plt.xlabel('Length of sentences', fontsize=18)\n",
    "plt.ylabel('No of sentences', fontsize=16)\n",
    "plt.show()"
   ]
  },
  {
   "cell_type": "code",
   "execution_count": 10,
   "metadata": {},
   "outputs": [
    {
     "name": "stdout",
     "output_type": "stream",
     "text": [
      "words: 3221\n",
      "['sort', 'party_size_description', 'restaurant_name', 'served_dish', 'restaurant_type', 'O', 'poi', 'state', 'timeRange', 'country', 'city', 'cuisine', 'party_size_number', 'spatial_relation', 'facility']\n"
     ]
    }
   ],
   "source": [
    "# Getting unique list of words\n",
    "\n",
    "words = list(set(train_df[\"word\"].values))\n",
    "words.append(\"ENDPAD\")\n",
    "\n",
    "n_words = len(words)\n",
    "print(\"words:\",n_words)\n",
    "\n",
    "tags = list(set(train_df[\"tag\"].values))\n",
    "n_tags = len(tags)\n",
    "print(tags)\n",
    "if n_tags>maxlen:\n",
    "    maxlen = n_tags"
   ]
  },
  {
   "cell_type": "code",
   "execution_count": 11,
   "metadata": {},
   "outputs": [
    {
     "name": "stdout",
     "output_type": "stream",
     "text": [
      "Word to index: {'Elma': 0, 'Brookneal': 1, 'northeastern brazilian': 2, 'this winter': 3, 'bessie, antonia and lisa': 4, 'in two hundred thirty seven days': 5, 'Fraser Mansion': 6, 'Guinea': 7, 'south american': 8, ' to eat in': 9, ' person at': 10, 'me, winnie and courtney': 11, 'I want to book an': 12, 'tuscan': 13, 'irene and rosella': 14, \"D'Iberville\": 15, 'I need reservations for a party of': 16, 'casey chavez, lucinda and karina': 17, 'Cleveland': 18, ' please.': 19, 'kristina and teresa': 20, 'The Cherry Street Tavern': 21, 'not far': 22, ' which has a': 23, 'my boss and I': 24, 'pizzeria': 25, 'book a spot that is': 26, 'Canteen Lunch in the Alley': 27, 'McColl': 28, ' time in': 29, 'bucatini': 30, 'Last Exit on Brooklyn': 31, 'Henlopen Acres': 32, 'bread': 33, 'Grenada': 34, 'Saint Barthélemy': 35, 'in a month': 36, 'Bermuda': 37, 'Iraq': 38, 'Please book reservations at a': 39, 'Ely': 40, 'November 24, 2036': 41, 'VA': 42, 'Bridge Round House': 43, 'I need a reservation, looking for a place with': 44, 'Guenther House': 45, 'Tavern on the Green': 46, ' I ate at': 47, 'Let me get reservations for a party of': 48, 'Selmer': 49, 'Ballylickey House': 50, 'hot dog': 51, 'I need a reservation for a': 52, 'Lexington Av-53rd St': 53, 'me, cherry and tracie': 54, \"I'd like seats for\": 55, 'Maple Glen': 56, 'me and my son': 57, 'First Watch': 58, 'The Room in the Elephant': 59, 'Book a restasurant in': 60, 'Venezuela': 61, 'N9NE Group': 62, 'coffeehouse restaurant': 63, 'strolghino': 64, 'fettucine': 65, 'Namibia': 66, ' from': 67, 'me, belinda and dena': 68, 'eleven': 69, ' want to eat at': 70, 'French Horn, Sonning Eye': 71, 'me, bobbie and colette': 72, 'Saint Helens': 73, 'in one hour': 74, 'I want tables for': 75, 'Laos': 76, 'Bear Hotel': 77, 'Arp': 78, 'Algeria': 79, 'thursday': 80, 'next year': 81, 'Pelham Bay Park': 82, 'Hat Creek': 83, 'me and terrie': 84, 'me, jenny and antoinette': 85, ' food in': 86, 'my niece and I': 87, ' want to book a': 88, 'four PM': 89, 'frybread': 90, 'Australia': 91, 'book table to a': 92, ' people in': 93, 'Malawi': 94, 'Kansas Day': 95, '. I need a table for': 96, 'Riddlesburg': 97, ' to get a table reserved at a': 98, 'russian tea cake': 99, ' ?': 100, 'Irvington': 101, '141 days from now': 102, 'this week': 103, 'Thomas Hynes House': 104, 'teresa and elnora': 105, 'Valley Mills': 106, 'I want to find an': 107, 'ma po tofu': 108, ' of the': 109, \"my step daughter's position\": 110, ' food at a': 111, 'jul. 3, 2019': 112, 'Theme restaurant': 113, 'British Indian Ocean Territory': 114, 'Liberia': 115, 'Ettrick': 116, 'Sterling St': 117, 'Verona': 118, 'Book reservations': 119, \"I'd like a table at a\": 120, \"I'd like to have\": 121, 'I really need a': 122, 'milk toast': 123, ' of my': 124, ' person in': 125, 'The Maisonette': 126, \"I'd like to eat at the\": 127, 'Harry’s Bar': 128, 'Qatar': 129, 'Find a reservation for a party of': 130, 'Laneville': 131, 'Can you get me a table at a': 132, 'U.S. Minor Outlying Islands': 133, 'meatball': 134, 'Fort Loudon': 135, 'West Odessa': 136, 'September the 13th, 2037': 137, 'Find an': 138, 'Lewisville': 139, ' friends': 140, 'Douglas': 141, 'Sturgeon': 142, 'book a restautant in': 143, 'Yogurt Mountain': 144, 'Khedive Palace': 145, '7 pm': 146, 'Please find a': 147, 'SkyCity': 148, 'this year': 149, 'Dinner in the Sky': 150, 'seven am': 151, 'NC': 152, 'Topton': 153, 'West Virginia': 154, 'doris and I': 155, 'corinne, tisha and I': 156, 'me, valarie and caroline': 157, 'Book reservations at the': 158, 'Palau': 159, 'Fatty Crew': 160, 'creole': 161, 'TN': 162, 'southeastern brazilian': 163, 'Moon Run': 164, 'April 25, 2026': 165, 'jewish': 166, 'neva, alice and maggie parker': 167, 'masala': 168, 'jul. 19, 2029': 169, 'Bock': 170, 'indonesian': 171, 'august the 17th, 2024': 172, 'The Nosh Bar': 173, ' before': 174, 'patti, hester richardson and camille': 175, '  as': 176, ' restaurnt in': 177, 'I want to book a restaurantin': 178, 'Hungary': 179, ' at an': 180, ' want go eat': 181, 'Salado': 182, 'South Street Diner': 183, ' the is': 184, 'Can you get seating for a group of': 185, 'Shore Club': 186, 'spanish rice': 187, 'tetrazzini': 188, 'Sep. the 10th': 189, 'home': 190, 'natasha, bettye and kimberley': 191, ' access': 192, 'Moravian Falls': 193, ', name of the restaurant is': 194, ' reservation for': 195, 'I want to eat at the': 196, 'December 6, 2031': 197, ' I want to reserve a spot for': 198, 'I want to find': 199, 'socca': 200, 'Bone': 201, 'Please reserve a table at the': 202, 'Weathervane Restaurant': 203, 'candace phillips, debbie and sondra': 204, 'Kansas': 205, 'Find me a nice': 206, 'Cross Timbers': 207, 'Mineola': 208, 'I need seating at': 209, 'my work location': 210, 'me, reyna and maxine': 211, 'I want to book the': 212, ' members in': 213, 'David Whitney House': 214, 'Find a reservation at a': 215, 'Almyra': 216, 'Felicity': 217, 'The Goof': 218, 'tea house': 219, 'Mexico': 220, 'Hutchinson': 221, 'Maison Parthenais-Perrault II': 222, \"I'd like to book a reservation for\": 223, 'Can I reserve the': 224, 'pizzette': 225, 'McMurray': 226, \" I'd like a reservation at a\": 227, 'I want to go to a': 228, '6': 229, 'book a table for a party of': 230, 'Morocco': 231, 'Hoyt St': 232, 'book at table at': 233, 'pasta salad': 234, ' from my place in': 235, 'Edgemoor': 236, 'The Berghoff': 237, 'Hopatcong': 238, 'Singapore': 239, 'Jan. 18th, 2035': 240, 'West Compton': 241, 'javanese': 242, 'umbrian': 243, 'Get me a table at a': 244, 'salade': 245, 'tommie and vera rogers': 246, 'fish and chips': 247, 'Broadway-Lafayette St': 248, ' time.': 249, ' away in': 250, 'deidre and rosa': 251, 'Georgetown Cupcake': 252, 'nov. the twenty-second, 2023': 253, 'Gun Hill Rd': 254, 'Can you get a table at': 255, 'Mongolia': 256, 'Malaysia': 257, ' want a reservation in the': 258, 'april twenty-second': 259, 'OK': 260, 'Oakes': 261, 'Luquillo': 262, 'Restaurant': 263, 'south indian': 264, ' reservations at': 265, 'Yankee Doodle Coffee Shop': 266, 'Book a table at a': 267, 'twelve AM': 268, 'Somalia': 269, 'quiche': 270, 'TX': 271, 'next fall': 272, 'four minutes from now': 273, 'October fifth': 274, 'northeast indian': 275, 'Get me a': 276, ' people to eat in': 277, 'august 3, 2024': 278, 'OR': 279, 'oyster bar': 280, 'Kenova': 281, 'Adrian': 282, 'Hendley': 283, 'Book me a reestaurant that is': 284, 'Geddes': 285, 'me and my step brother': 286, 'Pioneer Day': 287, '8': 288, 'today': 289, ' food that is': 290, 'Guadeloupe': 291, 'Rixford': 292, 'Clermont': 293, 'Want to eat at': 294, 'zero am': 295, 'our college': 296, 'October fifteenth, 2020': 297, ' for a': 298, 'stuffed peppers': 299, 'pigs in blankets': 300, ' during': 301, 'PR': 302, 'Horatio': 303, 'Union Auto Company': 304, 'Inwood - 207th St': 305, 'South Korea': 306, 'meal': 307, 'macaroni': 308, '17:38:04': 309, 'Guanica': 310, 'Please book a table for': 311, 'SD': 312, 'fast food joint': 313, 'eight AM': 314, 'seven': 315, 'Luray': 316, 'bear claw': 317, 'Gaslight Tavern': 318, 'six months from now': 319, ' for a cuisine': 320, 'Lets eat': 321, 'Bobcat Bite': 322, 'The Original House of Pies': 323, 'in ten months': 324, 'next autumn': 325, 'Stehekin': 326, 'Finsbury Park': 327, 'Make a reservation in a': 328, 'burrito': 329, 'harriett, deanne and I': 330, 'desserts': 331, 'Cawker City': 332, '2 minutes from now': 333, ' in a': 334, 'Hilt': 335, 'kouglof': 336, 'indian': 337, 'february 27, 2020': 338, 'gougère': 339, 'Find a reservation for a': 340, 'want to eat at': 341, 'I want to book a spot at a': 342, 'Book me a reservation at a': 343, 'Hollenberg': 344, '04:36:28': 345, 'christie, concepcion and I': 346, 'chili con carne': 347, ' from here for': 348, 'Can you book a table for': 349, 'Venetian Theatre': 350, ' as me': 351, 'I would like a': 352, 'campanian': 353, 'in 2 years': 354, 'Coney Island Hot Dog Stand': 355, 'I need a table booking for a': 356, ' food about': 357, 'me and edith': 358, '79 days and a half from now': 359, 'First Day Of Sukkot': 360, 'Eddie’s Attic': 361, 'Seafood restaurant': 362, '11 pm': 363, 'pizza': 364, \"I'd like a table in a\": 365, ' that serve': 366, 'crepe': 367, 'Urbanette': 368, 'ten AM': 369, ' and need a table for': 370, 'rhoda adams, roxanne and I': 371, 'testaroli': 372, ' people total.': 373, ' which offers': 374, 'Ludden': 375, 'Papua New Guinea': 376, 'courtney and ruby': 377, ' members on': 378, 'me and angeline': 379, 'Monaco': 380, ', where they serve': 381, 'I need a reservation for': 382, 'J.G. Melon': 383, 'Marshall Islands': 384, 'Red Lick': 385, 'Elk Rapids': 386, ' next to a': 387, ' In': 388, '42 weeks from now': 389, \"I'm looking to get a seat at a\": 390, 'I require a reservation for': 391, 'Co-operative Block Building': 392, 'my hostel': 393, 'emma and karen johnson': 394, 'mezzes': 395, 'jan. 24th': 396, ' trip that is': 397, ' in or': 398, 'my great grandfather and I': 399, 'Can you get me seating for a party of': 400, 'Volga': 401, 'Delanson': 402, 'hannah lewis and chelsea': 403, 'Cambodia': 404, 'Deersville': 405, 'Pelican Bay': 406, 'Book a table in': 407, 'marcella, erma and leanne rivera': 408, 'me and my best friend': 409, 'Apr. 7th, 2024': 410, 'Viroqua': 411, 'Decaturville': 412, 'book a spot for': 413, '1/1/2018': 414, 'Rose Creek': 415, 'AK': 416, '22:54': 417, \"I'm looking to book a reservation in\": 418, 'call for a table of': 419, 'feb. the 11th, 2032': 420, 'Lets take': 421, 'Ireland': 422, 'in 119 and a half days': 423, 'Stonewood': 424, ' fascility for': 425, 'I want a table to seat': 426, 'The Training Table': 427, 'book me a reservation at an': 428, 'Laurie Beechman Theatre': 429, \"I'd like to get reservations for\": 430, 'January 9': 431, 'Brucetown': 432, 'in 19 minutes': 433, \"geraldine's house\": 434, 'Earls Court': 435, 'reserve a table for': 436, 'Loyola': 437, 'Fairview Lanes': 438, '6/14/2035': 439, 'Trout Creek': 440, 'tortano': 441, \"I'd like a reservation at a place in\": 442, 'Want a table at': 443, 'cornelia and bettie': 444, 'book a table in': 445, 'Brockway': 446, 'Lavina': 447, 'me and my father in law': 448, ' cuisine in': 449, 'i need to book a table for': 450, 'May nineteenth, 2034': 451, 'June the fifth, 2035': 452, 'downtown': 453, 'terri and I': 454, 'The Rosebud': 455, 'Would like a table right': 456, 'Book an': 457, 'in 13 weeks': 458, 'my friends and I': 459, 'Hardesty': 460, 'Strabane': 461, 'in 1 hour and 1 second': 462, 'Cayman Islands': 463, 'Fish Express': 464, '  of': 465, 'Original Spanish Kitchen': 466, 'fry sauce': 467, 'Harding': 468, 'table for': 469, ' of us want to eat at a': 470, 'me and my kids': 471, 'Serendipity 3': 472, 'Searsport': 473, 'Raytown': 474, ' called': 475, '09:58:27': 476, 'Crouch': 477, 'Lochearn': 478, '. I need it for': 479, 'therese, clara and I': 480, 'far': 481, 'tsipouro': 482, '  that is': 483, ' at a restarunt in': 484, ' in the state of': 485, ' guests at a': 486, 'Tennessee': 487, 'Cyprus': 488, 'me and my crew': 489, 'scrapple': 490, 'Hallwood': 491, 'their house': 492, 'seven weeks from now': 493, 'CA': 494, 'me and my grandparents': 495, 'maple syrup': 496, 'american': 497, 'Find me a': 498, 'Please book me a': 499, 'south tyrolean': 500, 'Fayette': 501, ' or somewhere': 502, 'Wylliesburg': 503, 'Please reserve a table for': 504, ' from a': 505, 'Book': 506, 'Find a table': 507, 'Benin': 508, 'Pinto': 509, 'Ford Heights': 510, 'Rhode Island': 511, 'my daughter and I': 512, 'Brusly Landing': 513, 'Niue': 514, 'one minute from now': 515, 'Jacksboro': 516, 'White Heath': 517, 'ten': 518, 'my sister and I': 519, 'The Fort': 520, 'Make me a reservation for': 521, 'our apartment': 522, 'Kearney': 523, 'conchiglie': 524, '06:13 AM': 525, 'I want to book a table at': 526, 'National Coney Island': 527, 'Port Wentworth': 528, 'best': 529, 'Get me a reservation for': 530, 'Encino': 531, 'sep. the second': 532, 'New Jersey': 533, ' that serves': 534, 'gastropub': 535, '7/27/2036': 536, 'Afternoon': 537, 'I need a table at somewhere': 538, '01:51:47 pm': 539, '13 hours from now': 540, 'saucisse': 541, ' book a': 542, 'Newton Falls': 543, 'Dunbrody Country House Hotel': 544, 'catalina, delores and brandie mendoza': 545, 'mediterranean': 546, 'pepperoni': 547, 'December 26, 2040': 548, '1 year from now': 549, 'tomorrow': 550, '10:47:15 pm': 551, 'asian': 552, 'Conflict Kitchen': 553, 'Cook Islands': 554, 'Wadsworth': 555, 'January sixteenth, 2024': 556, 'me, marva and barbara': 557, ' guests': 558, 'ginestrata': 559, 'Reserve me a table for': 560, 'Mayotte': 561, 'Northvale': 562, 'I want to dine in': 563, 'Nicholasville': 564, 'Lets go to a': 565, 'me and my grandkid': 566, 'book for': 567, \"I'm looking for a local\": 568, 'I want to go to an': 569, 'Arizona': 570, 'Nigeria': 571, 'I need to find a table for': 572, 'malaysian': 573, 'Orthodox Good Friday': 574, 'one second from now': 575, 'Cazenovia': 576, 'fast food restaurant': 577, 'The Hamburger Wagon': 578, 'Wabuska': 579, 'slinger': 580, 'Rocky Fork': 581, 'Ashmore': 582, ' at': 583, 'Beardslee Castle': 584, ', I will need reservations at a': 585, 'Kenya': 586, 'Dinner by Heston Blumenthal': 587, \"i'd like reservations for\": 588, 'Culdesac': 589, 'festoni': 590, 'sashimi': 591, 'France': 592, 'Adelaide': 593, 'Eleele': 594, 'Book a party for': 595, '3 hours from now': 596, 'in 56 weeks': 597, 'Oneonta': 598, 'Palco': 599, ' people somewhere': 600, 'April the 10th': 601, 'elevenses': 602, 'Emmons': 603, ' in the country of': 604, 'Atlantic Grill': 605, 'near': 606, 'not distant': 607, 'I need a': 608, 'steakhouse': 609, 'in 5 seconds': 610, 'me and my step sister': 611, 'Keller': 612, 'Book me a table for a party of': 613, 'cupcake': 614, 'Vineyard Haven': 615, \"five o'clock\": 616, 'I want to eat for': 617, 'I would like to book a table at a': 618, 'Ottoville': 619, 'Pinecliffe': 620, 'sri lankan': 621, 'afternoon': 622, 'Callicoon': 623, \"St. Patrick's Day\": 624, 'French Polynesia': 625, 'Beaman': 626, ' the city of': 627, 'please book': 628, 'I need to make a reservation at a': 629, 'jan. the third': 630, 'Bonaire': 631, 'book me': 632, 'Conehatta': 633, 'valarie, mari and I': 634, 'Need a booking for a party of': 635, 'mineiro': 636, 'pôchouse': 637, 'I need a reservation for the': 638, 'Can I get a table for': 639, 'Benkelman': 640, 'sixteen hours from now': 641, 'sep. the 12th': 642, 'three weeks from now': 643, 'cheese fries': 644, 'bar': 645, '43 days from now': 646, 'book a table for': 647, 'Colorado': 648, 'McSherrystown': 649, 'swiss': 650, \"I'd like to visit a\": 651, 'chicken divan': 652, 'Virgin Islands': 653, ' that has access to a': 654, 'Diwali': 655, 'Greenland': 656, 'book a': 657, 'Westhampton Beach': 658, 'Whitewater': 659, ' reserved.': 660, 'Sint Maarten': 661, 'Dec. the eighth': 662, '8 pm': 663, 'Mulvane': 664, ' away at': 665, 'Friona': 666, 'me and my step uncle': 667, 'KY': 668, 'Need to book a reservtion for a': 669, 'Hubbell House': 670, 'Bahamas': 671, 'Loveless Cafe': 672, 'mongolian': 673, 'brazilian': 674, 'stacy watson and adriana': 675, 'jul. 4th': 676, 'Maine': 677, ' want a reservation in': 678, ' accesss for a party of': 679, 'Southern Shores': 680, '05:51:52': 681, 'steak': 682, 'march fifteenth': 683, 'karnataka': 684, 'Please book seating for': 685, 'me and my step mother': 686, 'La Madera': 687, 'Robert Lee': 688, 'me, tiffany and sondra': 689, ' and need a reservation at': 690, 'me and my half sister': 691, 'Hurricane': 692, 'this month': 693, 'Shabbona': 694, 'City of the Dalles': 695, 'Ecru': 696, 'I need a table for a party of': 697, 'book a table with': 698, ' where I can get a': 699, 'iris, ina and heidi': 700, 'cherie and josephine': 701, 'blini': 702, 'food truck': 703, 'Old Glory': 704, \" I'd like to eat at a\": 705, 'Sunnybrook': 706, 'I want to go to': 707, 'Westfield': 708, 'Make a reservation at a': 709, 'fish': 710, 'darlene, tessa and maxine': 711, 'Puerto Rico': 712, 'Alabama': 713, 'Find a reservation at': 714, '09:59 PM': 715, 'I want to book a reservation': 716, 'Nov. fifteenth': 717, 'Childs Restaurants': 718, 'book a table on': 719, ' would like to go to': 720, 'krista, yolanda and I': 721, 'November the twelfth, 2030': 722, 'Find a': 723, 'Book a reservation at a restaraunt in': 724, 'I need a table in': 725, 'mindy and angelita': 726, 'in two years': 727, \", I'd like to eat at a\": 728, ' that would like to eat': 729, ' person at a': 730, 'Blacksville': 731, ' would really like to eat': 732, 'close-by': 733, 'three pm': 734, '3/21/2018': 735, 'Albania': 736, 'Bushkill': 737, 'I need to reserve a table for': 738, 'my ex husband and I': 739, 'vickie rodriguez, lila reyes and ruby': 740, 'joni, wilda sanders and I': 741, '1 minute from now': 742, 'Book seating at a': 743, 'sep. first': 744, 'Strandburg': 745, 'Sale Creek': 746, 'Moores Mill': 747, 'Roscoff Restaurant': 748, 'may the twenty-seventh': 749, '  people': 750, 'Apr. the seventeenth, 2024': 751, 'Clawson': 752, 'June nineteenth': 753, 'Ucolo': 754, 'Beauregard': 755, 'Bowling Green': 756, 'Oasis Drive-In': 757, 'April 21': 758, \"erica's campus\": 759, 'I need to reserve': 760, 'georgia and I': 761, 'june the 8th, 2029': 762, 'I need reservations for': 763, 'Sistersville': 764, 'Central Grocery': 765, 'carolina style': 766, 'marina and I': 767, '. Book a table at a': 768, 'North Lima': 769, \"zero o'clock\": 770, 'Hills and Dales': 771, 'McLaurin': 772, 'tourte': 773, 'my baby and I': 774, 'Antigua and Barbuda': 775, 'I want to be': 776, 'Connecticut': 777, 'Cliff House': 778, '2 years from now': 779, 'tuna casserole': 780, 'Egypt': 781, 'nadine, sherrie and I': 782, 'Haskell': 783, 'one': 784, 'nine weeks from now': 785, 'North Carolina': 786, 'Wrigley': 787, 'Le Roy': 788, 'January the 7th': 789, '1 hour from now': 790, 'Swaziland': 791, '9 AM': 792, '  to accommodate': 793, 'bettye and lakeisha jimenez': 794, 'ilene and aisha': 795, 'Moody': 796, 'surf and turf': 797, 'Palestine': 798, 'Roseville': 799, 'book at': 800, 'MN': 801, 'apple butter': 802, 'The Ledbury': 803, 'molise': 804, '16 hours from now': 805, 'Gibraltar': 806, 'Penermon': 807, 'Tonight': 808, 'Nebraska': 809, '03:44 am': 810, 'Milton-Freewater': 811, 'Spade': 812, ' to a': 813, 'Table for': 814, ' food on': 815, 'Jul. 27': 816, 'my kids and I': 817, 'I need a reservation that has': 818, 'Albertson': 819, ' members at': 820, 'my step aunt and I': 821, '3': 822, 'Can you get me seating at a': 823, 'I would like to eat': 824, 'Hawaii': 825, 'book a spot in': 826, ' anywhere that serves': 827, 'Guernsey': 828, ' that is the': 829, ' for': 830, 'Reserve me a resturant for': 831, \"I'd like to book the\": 832, 'Cashel Palace Hotel': 833, 'pub restaurant': 834, 'South Mills': 835, 'crab cake': 836, 'Bolivia': 837, ' from my hotel in': 838, 'last day of sukkot': 839, 'rita, antoinette and I': 840, 'thousand island dressing': 841, \"I'm looking to get reservations for\": 842, 'Avalon': 843, 'fried fish': 844, 'Jun. the 7th, 2022': 845, 'bistro': 846, 'Need a booking for': 847, 'cheese steak': 848, 'I need a table at': 849, 'nona gray, myrtle and alison': 850, 'Allison': 851, 'Falkland Islands': 852, 'Exira': 853, 'PW': 854, 'Tun Tavern': 855, 'Oct. 24, 2035': 856, ' and book seats for': 857, 'Skillman': 858, 'nine': 859, 'Freight House': 860, 'esperanza and tommie': 861, 'Ariston Cafe': 862, 'jun. 13th': 863, 'padangnese': 864, 'in 11 weeks': 865, 'I need a dinner reservation': 866, 'Glassy Junction': 867, 'their place': 868, 'baba au rhum': 869, 'The Gowanus Yacht Club': 870, \"fourteen o'clock\": 871, 'MA': 872, 'GU': 873, \" people to a place that's\": 874, 'I want to reserve a': 875, 'me and bettye': 876, 'our location': 877, 'October 16, 2038': 878, 'The Clink': 879, 'Locate a': 880, 'bunker hill day': 881, '2/21/2021': 882, 'Holy Saturday': 883, 'smoking room': 884, 'Book a  table for': 885, 'Leopold Cafe': 886, 'On': 887, 'popular': 888, 'AMelia Court House': 889, 'Coney Island': 890, 'I want an': 891, '16 hours ten minutes and one second from now': 892, 'Cotton Center': 893, 'The Counter': 894, 'Book reservations to a': 895, 'Need a table': 896, 'The Cubby Bear': 897, 'me and my niece': 898, 'book a spot at the': 899, 'Pohick': 900, 'Book reservation for': 901, 'Metropolitan Borough of Lambeth': 902, 'April the twenty-seventh, 2022': 903, 'in 2 minutes': 904, 'our house': 905, 'brunch': 906, 'me and aisha': 907, 'Gasport': 908, ' of our hotel.': 909, 'Slippery Noodle Inn': 910, 'Madagascar': 911, 'Hayden Row': 912, 'Johnston': 913, 'Snow Lake': 914, 'I need to book a table at': 915, \"I'd like a table for\": 916, 'ebony and yolanda': 917, 'State Road': 918, 'Russia': 919, 'jan. first, 2037': 920, 'spanish': 921, 'Confederate Memorial Day': 922, 'London Borough of Ealing': 923, 'Atlantic Av-Barclays Ctr': 924, 'Garner': 925, 'Itsu': 926, 'italian-american cuisine': 927, 'Haines Borough': 928, 'Crugers': 929, 'cafeteria': 930, 'book an': 931, 'elinor, crystal turner and nita': 932, 'U.S. Virgin Islands': 933, 'Saint Vincent and the Grenadines': 934, ' person on': 935, ' and need reservations.': 936, '08:05': 937, ' by': 938, 'bouchée': 939, \"I'd like to take a party of\": 940, 'I need a table in the state of': 941, 'rachael morris and shannon': 942, 'Herkimer': 943, 'mar. 8, 2020': 944, 'coffeehouse': 945, 'South Pekin': 946, 'tarte': 947, 'Gwynedd Valley': 948, \"I'd like to eat a\": 949, 'Glazier': 950, 'Reservea  table for': 951, 'Alberton': 952, 'Book me a table for': 953, 'North AMityville': 954, 'The Meatball Shop': 955, 'KS': 956, 'Jan. 16, 2034': 957, 'Make reservations for me at a': 958, 'Atlas': 959, '1 PM': 960, ' place at': 961, 'Bruno': 962, \", I'd like to make reservations at a\": 963, 'New Caledonia': 964, 'I need': 965, ' that I can get a': 966, ' that will serve a': 967, \"their step sister's workplace\": 968, 'nineteen minutes from now': 969, 'Need to book a': 970, 'Book reservations at a  for': 971, 'Wheeler': 972, 'Fashion Café': 973, 'Union Oyster House': 974, 'Find a place for me to eat in': 975, 'Arcadian Court': 976, 'Clinton Street Baking Company & Restaurant': 977, 'in 22 and a half weeks': 978, 'in a week': 979, \"two o'clock\": 980, 'Green Restaurant Certification': 981, 'Pelahatchie': 982, ' that specialises in being a': 983, 'me, emily and gena': 984, ' and get a table for': 985, ' table at': 986, 'Steele City': 987, 'Turkey': 988, 'me and carmella': 989, 'my grandkid and I': 990, 'hot chicken sandwich': 991, \" and isn't too\": 992, 'Brunei': 993, 'shari and I': 994, 'Mar. 22nd, 2020': 995, 'Baker City': 996, 'in 21 hours': 997, ' there.': 998, 'two': 999, 'Lets go and take': 1000, ' of': 1001, 'Greensburg': 1002, 'josie, carissa and lindsay': 1003, 'San Marino': 1004, 'Feb. the twenty-seventh': 1005, 'Where is': 1006, \"I'd like to eat at an\": 1007, 'Robinson': 1008, 'Mackville': 1009, ' on': 1010, 'The Hand & Flowers': 1011, 'Tribeca Grill': 1012, 'book any': 1013, 'Slick': 1014, ' people.': 1015, ' on the': 1016, \"tia's house\": 1017, 'Need a table for': 1018, 'me and katharine': 1019, 'Spaghetti Warehouse': 1020, 'in eight hours': 1021, 'in nine weeks': 1022, 'jerky': 1023, ' and eat at a table for': 1024, 'The Dome, Edinburgh': 1025, 'Clinchco': 1026, 'Pauls Crossroads': 1027, 'book a table this': 1028, 'me and deanna': 1029, 'Three Points': 1030, 'Cuney': 1031, 'kathleen, brianna and I': 1032, 'Durant': 1033, 'Need a': 1034, 'Kentucky': 1035, 'august the twenty-third, 2025': 1036, 'san jacinto day': 1037, ' people about': 1038, 'Book a reservation for a': 1039, 'VT': 1040, 'spring rolls': 1041, 'susanne and carey phillips': 1042, 'Skaneateles': 1043, ' at a place in': 1044, \"12 o'clock\": 1045, 'DE': 1046, ' type room to accommodate': 1047, '10/24/2028': 1048, 'book a table at a': 1049, 'Syria': 1050, '4': 1051, 'Fashion Cafe': 1052, 'T-Rex': 1053, 'Vermont': 1054, '19:44:58': 1055, 'Jul. 6, 2040': 1056, 'Lucerne Valley': 1057, ' using the': 1058, 'Soldier Pond': 1059, 'June the thirteenth, 2033': 1060, 'Solomon Islands': 1061, 'West Richfield': 1062, 'Little Grill Collective': 1063, ' place in': 1064, 'I want to eat': 1065, 'book spot at a': 1066, 'The Firehouse Restaurant': 1067, 'Falmouth': 1068, 'Vigus': 1069, 'I want to eat at a': 1070, 'muffuletta': 1071, 'pizzeria restaurant': 1072, 'chicken fried bacon': 1073, 'I want a': 1074, 'Take me to the': 1075, 'tortelloni': 1076, 'Irvine': 1077, 'english': 1078, 'Jul. the 18th, 2024': 1079, \"twenty o'clock\": 1080, \"your teenager's college\": 1081, 'Sweden': 1082, 'me and deborah vasquez': 1083, ' reservation at a': 1084, 'Israel': 1085, 'Keeling Islands': 1086, 'ethiopian': 1087, 'Lets go': 1088, 'Shingleton': 1089, 'NH': 1090, 'New Tulsa': 1091, 'Give me a': 1092, 'Eleven Madison Park': 1093, 'chicken fingers': 1094, 'Pricedale': 1095, ' place or': 1096, '22 weeks from now': 1097, 'make a reservation at a': 1098, ' reservation at': 1099, 'Reserve a table for': 1100, 'november the 24th, 2027': 1101, 'som tam': 1102, \"indigenous people's day\": 1103, 'Evening': 1104, 'Cold Spring Tavern': 1105, 'in twenty hours': 1106, ' that has a': 1107, 'South Dakota': 1108, 'Dillard House': 1109, 'liver and onions': 1110, 'my step grandfather and I': 1111, 'me, cassie and lesley': 1112, ' future.': 1113, \"I'm craving\": 1114, 'Tillicum': 1115, 'Oct. the thirteenth': 1116, 'african': 1117, 'Masonville': 1118, 'The Hat': 1119, 'sun': 1120, 'Reserve a spot at': 1121, 'me and my mommy': 1122, 'Belle Plaine': 1123, 'Bowlegs': 1124, 'Mountain Iron': 1125, ' want to go to an': 1126, 'Need a table for a party of': 1127, 'need a table for': 1128, 'january 11th, 2032': 1129, ' at the': 1130, 'Manning': 1131, ' for me in': 1132, 'Municipal Borough of Mitcham': 1133, '3 am': 1134, 'Limerick': 1135, 'Book me seating at a': 1136, 'party for': 1137, 'Northcote': 1138, 'i want to eat a': 1139, 'Book me seats for': 1140, '4/17/2033': 1141, 'Bedford Park Blvd-Lehman College': 1142, 'Childersburg': 1143, 'russian': 1144, '10:41:51 am': 1145, 'me and my boss': 1146, 'my brother in law and I': 1147, '5 years and a half from now': 1148, \"I'd like to go to a\": 1149, 'Can you book reservations for': 1150, 'vichyssoise': 1151, 'noodle': 1152, ' dish': 1153, \"your colleague's college\": 1154, 'Hazel Green': 1155, 'Bosnia and Herzegovina': 1156, ' reservation in': 1157, 'Lake Fenton': 1158, 'evangeline and petra cooper': 1159, 'Can you make a reservation for': 1160, ',  in': 1161, 'me, angela and vilma': 1162, 'Lambertville': 1163, 'Lofgreen': 1164, 'The Red Onion': 1165, 'brasserie restaurant': 1166, 'Pine Bluffs': 1167, 'gnocchi': 1168, 'Windows on the World': 1169, ' members': 1170, 'Cypress Av': 1171, '   for': 1172, 'soupe': 1173, 'Moldova': 1174, 'Anstruther Fish Bar': 1175, 'Honduras': 1176, 'Get me a table at': 1177, 'I want to take': 1178, 'Oklahoma': 1179, 'in one week': 1180, 'book me a reservation at': 1181, 'Denmark': 1182, 'Boon Brick Store': 1183, \"0 o'clock\": 1184, 'next Summer': 1185, 'I would like to find a': 1186, 'November seventeenth, 2019': 1187, 'Pollock': 1188, 'Book reservations for': 1189, 'mamie and maria': 1190, 'presskopf': 1191, 'caribbean': 1192, 'Need to book a table': 1193, \"I'd like to go to the\": 1194, 'Please book me a reservation': 1195, ' reserve a table for': 1196, 'grilled meat': 1197, ' cuisines in': 1198, 'Jun. the sixteenth, 2032': 1199, 'wilda and jacklyn': 1200, 'book a table at': 1201, 'tamra davis, viola and dorothea': 1202, 'Kamrar': 1203, 'Tartinery Restaurant': 1204, 'West Hattiesburg': 1205, 'Western Sahara': 1206, 'Make a reservation for': 1207, ' want to go to the': 1208, 'Bonaparte': 1209, ' and': 1210, 'Thompson': 1211, 'Kazakhstan': 1212, 'Please make me reservations somewhere for': 1213, 'Main Deli Steak House': 1214, 'Ashland': 1215, 'food': 1216, 'Halsey St': 1217, 'New York': 1218, ' in a place': 1219, 'highly rated': 1220, 'Lets go eat': 1221, 'BOok me a table for': 1222, '5': 1223, ' and are are in': 1224, 'marylou and I': 1225, '?': 1226, ' please': 1227, 'crystal and brittney': 1228, 'my bf and I': 1229, 'San Juan Capistrano': 1230, 'Dallesport': 1231, 'diner': 1232, 'Schedule the': 1233, 'candice, jeannie and nichole': 1234, '22 minutes from now': 1235, 'make a reservation for': 1236, \"I'm looking to book a table at a\": 1237, 'please book a room in': 1238, 'Find a table for': 1239, 'Get me reservations for an': 1240, '4 am': 1241, 'Where can I book a table': 1242, 'Book me a table at a': 1243, 'I need a reservation for an': 1244, 'Indiahoma': 1245, \"my teenager's airbnb\": 1246, 'two pm': 1247, ' to the': 1248, 'northern brazilian': 1249, 'I need reservations in': 1250, 'in twenty minutes': 1251, 'food court': 1252, 'midnight': 1253, 'Tennessee Ridge': 1254, \"my mum's hotel\": 1255, 'Hainesville': 1256, ' which is': 1257, 'I want to book at a': 1258, 'april the eighteenth, 2030': 1259, 'Lets get a table for': 1260, ', has room for': 1261, 'Noyack': 1262, 'in 19 hours': 1263, 'Book a table at': 1264, 'madeleine': 1265, \"my daughters's work location\": 1266, 'our secondary residence': 1267, 'bio': 1268, 'AZ': 1269, 'WWE The World': 1270, 'Sunset': 1271, 'NM': 1272, 'trattoria': 1273, 'Tremont Av': 1274, \"I'd like a table at the\": 1275, 'reserve a': 1276, 'book me a reservation at a': 1277, ' table at the': 1278, ' right': 1279, 'National Cash Register Building': 1280, 'your place': 1281, 'in town': 1282, 'Metropolitan Museum of Art': 1283, 'NV': 1284, 'me and my parents': 1285, 'Zapata': 1286, 'Bullfeathers': 1287, ' members with': 1288, 'top-rated': 1289, 'october the 13th, 2039': 1290, 'pain perdu': 1291, 'El Reno': 1292, 'glenda, lois and tamra': 1293, 'Avant': 1294, 'Can  book a': 1295, 'nov. 7': 1296, 'Calistoga': 1297, 'Olive': 1298, 'in 1 second': 1299, ' and book a table for': 1300, 'Sugarville': 1301, ' a safe': 1302, 'Sunrise': 1303, 'Irma Hotel': 1304, ' reservation.': 1305, 'michele, diann and pam': 1306, ' in the city of': 1307, 'Get me reservations for': 1308, 'Reserve a table at a': 1309, 'Saudi Arabia': 1310, 'Crown Burgers': 1311, 'eleven months from now': 1312, 'irish': 1313, 'capicollo': 1314, \"I would like reservations for Giodi's in\": 1315, \"I'm looking to bring\": 1316, 'Prospect of Whitby': 1317, '11/23/2031': 1318, 'Diners of Allentown, Pennsylvania': 1319, 'tarte tatin': 1320, 'Need a table in': 1321, 'my teens and I': 1322, 'country': 1323, 'me and my grandmother': 1324, 'meredith, louisa and corrine': 1325, 'velma and gloria': 1326, 'next February': 1327, 'elvira and I': 1328, 'doughnut': 1329, 'burger': 1330, 'find and book a': 1331, 'Please book a': 1332, 'charlene and I': 1333, 'next spring': 1334, 'night': 1335, 'Ewen': 1336, 'aioli': 1337, 'Book something for': 1338, 'holly and brittany': 1339, 'march 17': 1340, 'Please make reservations in': 1341, 'The Middle East': 1342, ' restaurant for a party of': 1343, 'Everson': 1344, '6 pm': 1345, 'baeckeoffe': 1346, 'Serbia': 1347, '5 am': 1348, ' of me at': 1349, 'Carnot': 1350, 'Coon Chicken Inn': 1351, ' want to dine at': 1352, 'Oct. 17': 1353, 'Elberta': 1354, 'MP': 1355, 'bougatsa': 1356, 'The Lake House': 1357, 'Federated States Of Micronesia': 1358, 'MT': 1359, 'Lavalette': 1360, 'Please book me a table at a': 1361, 'book a spot': 1362, 'Hallowell': 1363, 'Lentil as Anything': 1364, 'book a spot at': 1365, ' to book a': 1366, 'agnolotti': 1367, 'Guam': 1368, 'Pidcoke': 1369, 'marci, marylou and amelia': 1370, 'I want to bring': 1371, 'Brazil': 1372, 'Jenkins': 1373, 'East Timor': 1374, 'Boone Tavern': 1375, 'german chocolate cake': 1376, 'ten am': 1377, '10:24': 1378, ' that has': 1379, 'Uncas': 1380, 'book me a table at a': 1381, ' trip for': 1382, ' during our': 1383, ' that searves': 1384, 'Make me reservations for a': 1385, '00:55 am': 1386, 'Need a table at a': 1387, '4/4/2036': 1388, 'Home Gardens': 1389, 'Fort Gates': 1390, ' that has room for': 1391, 'I would like a table for': 1392, 'Heard Island and McDonald Islands': 1393, 'need a table at': 1394, 'San Francisco Brewing Company': 1395, 'Wallsburg': 1396, 'The Palm': 1397, ' .': 1398, 'spätzle': 1399, 'apple sauce': 1400, 'Set me up with a table at a': 1401, 'West Palm Beach': 1402, 'neighborhood': 1403, 'Pagosa Junction': 1404, 'Suriname': 1405, 'Tokelau': 1406, '02:22 pm': 1407, \"Cajah's Mountain\": 1408, 'NJ': 1409, 'my momy and I': 1410, 'their airbnb': 1411, 'Jul. 10th, 2028': 1412, ' people on': 1413, 'feb. the fourth': 1414, 'paella': 1415, 'Ottumwa': 1416, 'Take me a': 1417, 'Lesotho': 1418, 'We want to eat at a': 1419, 'Donnelly': 1420, ' room which serves': 1421, 'hungarian': 1422, 'august seventeenth': 1423, 'Book me a': 1424, 'kebab': 1425, ' rating': 1426, 'Shopsins': 1427, '21 weeks from now': 1428, 'five': 1429, 'next dec': 1430, 'four am': 1431, 'Anguilla': 1432, 'need a table at a': 1433, 'Harveys': 1434, 'supper': 1435, ' type': 1436, ' to eat at': 1437, ' at any kind of': 1438, 'Owings Mills': 1439, 'monday': 1440, 'WY': 1441, '6 PM.': 1442, ' to get': 1443, 'Finland': 1444, 'mughlai': 1445, 'Takilma': 1446, 'renee sanders, marlene and jewel': 1447, 'I need reservations at a': 1448, \"I'd like to get a\": 1449, 'Old Dutch': 1450, 'southeastern': 1451, 'august 25': 1452, ' place that serves': 1453, 'Chowchilla': 1454, 'bakery': 1455, 'apr. 2, 2021': 1456, 'in a year': 1457, 'Georgia': 1458, 'The Cheese Course': 1459, 'The Original Soup Man': 1460, 'lobster newberg': 1461, ' atmosphere': 1462, 'Make me a reservation at': 1463, ' would like to get together at a': 1464, 'kelli, jean and I': 1465, 'Allentown': 1466, ' side': 1467, 'in four weeks': 1468, 'Watauga': 1469, 'Dominican Republic': 1470, 'punjabi': 1471, 'me and adela': 1472, 'Manack': 1473, 'Saint Kitts and Nevis': 1474, ' anywhere': 1475, 'Carter House Inn': 1476, 'Book a reservation': 1477, 'wontons': 1478, ' in': 1479, 'alta, deborah and bertha': 1480, ' food place in': 1481, 'sunrise': 1482, 'Goshenville': 1483, 'next week': 1484, 'rosalie stewart and evelyn': 1485, 'Italy': 1486, ' dish in': 1487, 'I need a table': 1488, 'pansette': 1489, 'eunice thompson and elisa martin': 1490, 'Eminence': 1491, 'São Tomé and Príncipe': 1492, 'Agate': 1493, 'snack': 1494, 'FL': 1495, 'In': 1496, ' to me in': 1497, ' need a table at a': 1498, 'tibetan': 1499, 'Iron Springs': 1500, 'Ware Shoals': 1501, 'Schuyler Lake': 1502, 'close': 1503, 'one year from now': 1504, 'Get me a table for': 1505, 'I would like a table at a': 1506, 'protein bar': 1507, 'I need a reservation in': 1508, ' there': 1509, 'ND': 1510, 'Wilson Av': 1511, ' to a place to eat at': 1512, 'chicken and waffles': 1513, 'Bastian': 1514, 'me and my ex husband': 1515, 'Book a spot at a': 1516, 'The Big Chill Cafe': 1517, 'oysters rockefeller': 1518, 'oct. the seventeenth': 1519, 'Lets eat at': 1520, 'salami': 1521, 'kirsten price, audra and I': 1522, 'Can you book a table for a party of': 1523, ', capital of': 1524, ' that has a table for': 1525, 'pho': 1526, 'I want to book a table at a': 1527, 'Berowra Waters Inn': 1528, 'North Dakota': 1529, 'Lets go eat in': 1530, 'ida, monica and etta': 1531, 'find and book a table in': 1532, 'ten pm': 1533, 'AMbler': 1534, 'me and savannah': 1535, ' people please': 1536, \"I'm looking for a\": 1537, 'Sep. the second, 2020': 1538, 'seven pm': 1539, 'Brenham': 1540, 'jimmie and chasity howard': 1541, 'Blue Ribbon Barbecue': 1542, 'haystack': 1543, 'this Winter': 1544, 'Find a table at a': 1545, ' want to eat in': 1546, ' plaCE': 1547, 'Plandome Manor': 1548, 'six am': 1549, 'puglia': 1550, 'Ethiopia': 1551, 'CityZen': 1552, 'tues.': 1553, '135th St': 1554, 'christy, louise and alexandra': 1555, ' here for': 1556, 'Bowers': 1557, 'I want seating for': 1558, 'Goodland': 1559, '. at': 1560, 'antoinette, christine and caitlin': 1561, 'Please make reservations for a': 1562, 'CT': 1563, ' at the most': 1564, '10 am': 1565, 'trottole': 1566, 'Fairview': 1567, 'October 6th, 2019': 1568, 'I want to go to the': 1569, 'Anything': 1570, ', looking for an': 1571, 'Kaanapali': 1572, '04:45 pm': 1573, 'manuela and yvonne': 1574, 'leticia, melva and twila edwards': 1575, 'Can you book me a table for': 1576, 'me, isabella and carly': 1577, ' that can feed': 1578, 'La Jara': 1579, 'breakfast': 1580, 'gay ramos, janice gonzales and I': 1581, '07:07': 1582, ' to get some': 1583, 'april the 8th': 1584, ' somewhee in': 1585, 'Rwanda': 1586, \"four o'clock\": 1587, \"I'd like to eat in\": 1588, ' stle cusine for a party of': 1589, 'Reserve me a table a': 1590, 'me, matilda and deana': 1591, 'Jersey': 1592, 'me and my team': 1593, 'The Fat Duck': 1594, 'now': 1595, 'The Alley': 1596, 'Wyoming': 1597, 'Thailand': 1598, 'Illinois Central Railroad Freight Depot': 1599, ' facility at': 1600, 'Serbia and Montenegro': 1601, 'at': 1602, '12 AM': 1603, 'Dutch Mills': 1604, 'I need a table somewhere in': 1605, 'Nunam Iqua': 1606, ' I need a reservation for': 1607, '  at a': 1608, 'Make me a reservation at a': 1609, ' people to eat': 1610, 'Poncha Springs': 1611, ' and can accommodate a party of': 1612, \"I'd like to reserve a table in\": 1613, 'Top Pot Doughnuts': 1614, 'your position': 1615, 'Monty’s Hotel, Secunderabad': 1616, 'feb. 7th': 1617, 'Grainola': 1618, 'in 12 months': 1619, 'milagros and I': 1620, 'Riverview': 1621, 'North Korea': 1622, '.': 1623, 'dec. the fifth, 2026': 1624, ' from my': 1625, \" I'd like to go to a\": 1626, 'Red Crown Tourist Court': 1627, 'Guyana': 1628, '21:49': 1629, 'Carpenterville': 1630, 'Kit Carson': 1631, 'Carencro': 1632, 'in one minute': 1633, 'Muscle Shoals': 1634, 'Chile': 1635, 'Choate': 1636, 'Briarwood': 1637, 'ava and I': 1638, 'Midday': 1639, 'Cortelyou Rd': 1640, 'DeKalb Av': 1641, 'Kremmling': 1642, ' food for': 1643, 'Nuts on Clark': 1644, ' want to go to': 1645, 'Deweese': 1646, 'ten PM.': 1647, 'bennington battle day': 1648, 'glace': 1649, 'Book a table over the': 1650, 'Black Horse Tavern': 1651, \" I'd like to go to\": 1652, 'march 6, 2034': 1653, 'mar. fourteenth': 1654, '7': 1655, 'thai': 1656, 'reserve a table at': 1657, 'paté': 1658, 'january the 11th': 1659, \"I'd like to eat at a\": 1660, 'Freshwater Bay': 1661, 'in 16 minutes': 1662, 'me, leanne and tami': 1663, '11/1/2033': 1664, 'choucroute': 1665, 'Illinois': 1666, 'Find a reservation for': 1667, 'eight': 1668, 'cretan': 1669, 'find an': 1670, 'August the nineteenth': 1671, 'in two seconds': 1672, 'Montenegro': 1673, 'Hackney': 1674, 'dumplings': 1675, 'cuban': 1676, 'Metropolitan Borough of Bethnal Green': 1677, '  .': 1678, 'Datil': 1679, 'Ocean Gate': 1680, ' want to go': 1681, 'helen and miriam': 1682, 'my mom and I': 1683, 'Birch River': 1684, 'purim': 1685, 'Santa Claus': 1686, 'osteria restaurant': 1687, 'book on': 1688, 'Hillview': 1689, 'this summer': 1690, 'Blaine Hill': 1691, 'eight pm': 1692, 'Looking for a': 1693, ', where can I get a reservation?': 1694, 'Cimarron City': 1695, 'The K Club': 1696, 'book a table at an': 1697, 'shawn, marguerite and della': 1698, 'joint restaurant': 1699, 'ice cream': 1700, 'Book me a reservation for an': 1701, 'book': 1702, \"fifteen o'clock\": 1703, 'Orchard Grass Hills': 1704, 'minestrone': 1705, 'Central African Republic': 1706, ' access for a party of': 1707, ' booked on': 1708, 'The Brazen Head': 1709, '2 months from now': 1710, 'frozen yogurt': 1711, 'Gleed': 1712, ' seats at a': 1713, 'jan. 7, 2023': 1714, 'Pershing Square, Manhattan': 1715, ' at a new': 1716, \"I'd like a\": 1717, 'Black Cat Bar': 1718, 'Chapter One': 1719, 'United Kingdom': 1720, 'Book a spot for': 1721, ' and have a party of': 1722, 'book a table at the': 1723, 'five pm': 1724, 'me, geneva and wilda': 1725, ' with a': 1726, 'Utah': 1727, 'vezione verro': 1728, 'this autumn': 1729, 'Juliff': 1730, 'osteria': 1731, ' person at an': 1732, 'eleven am': 1733, 'next October': 1734, 'we': 1735, 'Saturday': 1736, 'me and lauren': 1737, 'madeleine, keisha and clara alvarez': 1738, 'chasity ruiz and mary': 1739, 'Kokomo': 1740, 'in 1 hour nine minutes and one second': 1741, 'reserve a spotat the': 1742, 'Argusville': 1743, 'italian': 1744, 'book in': 1745, 'office': 1746, 'tea': 1747, 'in one second': 1748, ' here in': 1749, 'Tin City': 1750, ' spot that serves': 1751, 'Atomic Cafe': 1752, 'in': 1753, 'Please find me a table at a place that serves': 1754, 'Sand Lake': 1755, 'Plain': 1756, 'cordon bleu': 1757, 'churrascaria': 1758, 'Ad Hoc': 1759, 'goan': 1760, 'Piper': 1761, 'Need table for': 1762, 'Shambaugh': 1763, 'pastelaria': 1764, 'chicken french': 1765, ' for a party of': 1766, 'Book seating for': 1767, 'Lazy Mountain': 1768, \"Thomas Jefferson's Birthday\": 1769, ' serving': 1770, 'acquacotta': 1771, \"I'm looking for the\": 1772, 'Curacao': 1773, 'Statham': 1774, ' food.': 1775, 'Gus Stevens Seafood Restaurant & Buccaneer Lounge': 1776, ' as': 1777, 'same distant': 1778, \"I'm going to\": 1779, 'Grecian Coffee House': 1780, ' table for': 1781, ' reservation for somewhere in': 1782, ' place with': 1783, 'Bulgaria': 1784, 'Wagram': 1785, ' people at a': 1786, 'Lincoln Beach': 1787, ' people in the': 1788, 'Cochran': 1789, 'eighteen': 1790, ' that can serve a party of': 1791, 'american chinese cuisine': 1792, 'taverna': 1793, 'I need to book a table at a': 1794, 'northeastern': 1795, ', I need reservations for': 1796, 'elise and alma': 1797, 'meatballs': 1798, 'Tuvalu': 1799, 'Armenia': 1800, 'Pakistan': 1801, 'Oak Ridge': 1802, 'Cafe Rouge': 1803, 'Need a table at': 1804, 'kelley and suzette': 1805, 'Osierfield': 1806, 'Unalaska': 1807, ' for party of': 1808, 'me, clarice and debbie': 1809, 'Cuba': 1810, 'Comoros': 1811, 'IN': 1812, 'Book table on the': 1813, 'Please get me a reservation at a': 1814, 'I have': 1815, 'Woodcliff Lake': 1816, 'chips': 1817, 'Fort McKinley': 1818, 'Uzbekistan': 1819, 'find a': 1820, 'I want a table for': 1821, 'Hesston': 1822, 'june 23rd, 2040': 1823, 'within the same area': 1824, 'Creola': 1825, 'twelve PM': 1826, 'Crooked House of Windsor': 1827, ' om': 1828, 'Portugal': 1829, 'Barbados': 1830, 'my granddaughter and I': 1831, 'me and my momy': 1832, 'Jul. 13, 2036': 1833, 'Friday': 1834, ' and can seat': 1835, ' would like to go eat at': 1836, 'me and my ex wife': 1837, 'MS': 1838, 'South Sudan': 1839, '8th St': 1840, 'me and sonja': 1841, ', party of': 1842, 'Phase 1': 1843, 'Bouchon': 1844, 'Union Square Cafe': 1845, 'twelve am': 1846, \"I'd like to get\": 1847, 'Exmore': 1848, 'Dodge Park': 1849, 'mar. 20th': 1850, 'green bean casserole': 1851, 'Make a': 1852, 'Woodston': 1853, 'I need to find a': 1854, 'close by': 1855, 'next mar': 1856, 'Satanta': 1857, 'Coventry Lake': 1858, 'six PM': 1859, 'Bangladesh': 1860, ' named': 1861, 'in 24 weeks': 1862, 'Old Orchard Beach': 1863, 'Tennyson': 1864, 'Beach 105th St': 1865, 'Gilluly': 1866, 'jun. 2': 1867, 'Brokaw': 1868, ', prefereably': 1869, ' need a reservation for a': 1870, \"all souls' day\": 1871, 'spa': 1872, 'Cocos Islands': 1873, ' scheduled for': 1874, 'HI': 1875, 'me and my mummy': 1876, 'Feb. the seventh': 1877, \" that's\": 1878, 'Equatorial Guinea': 1879, 'Book a table at any': 1880, 'Alaska Day': 1881, ' party for': 1882, 'pasta': 1883, 'Can you make reservations for': 1884, 'me, naomi and elisabeth': 1885, 'Veyo': 1886, 'get me a reservation at a': 1887, 'I need seating for': 1888, 'South Carolina': 1889, 'I need to take': 1890, 'My party of': 1891, ' people needing a': 1892, 'Space Aliens Grill & Bar': 1893, '10 AM': 1894, 'Sutphin Blvd': 1895, 'Myrtle Av': 1896, 'Mar. thirteenth, 2026': 1897, 'katina and josefina gray': 1898, 'in seven years': 1899, 'japanese': 1900, 'argentinian': 1901, 'Germany': 1902, 'Please get me seating at the': 1903, 'Can I get some': 1904, 'Pitcairn Islands': 1905, 'in sixteen minutes': 1906, ' with the': 1907, 'this fall': 1908, 'Luxor': 1909, 'Savoy Hotel and Grill': 1910, 'Lake Alfred': 1911, 'Trinidad and Tobago': 1912, 'christian and susana': 1913, 'Please book a room in': 1914, 'cambodian': 1915, 'elsa and I': 1916, 'deviled crab': 1917, 'Book reservations at a': 1918, 'the day after tomorrow': 1919, ' that is also': 1920, 'Please make a': 1921, '  in the state of': 1922, 'The Spotted Pig': 1923, 'Sichuan Food': 1924, 'BOok a table for': 1925, 'Hoonah': 1926, 'aug. the 9th': 1927, 'ID': 1928, 'Light Horse Tavern': 1929, 'crepes': 1930, '  scheduled for': 1931, \"I'd like to reserve a spot at a\": 1932, 'Beech Creek': 1933, 'Anderson': 1934, 'Glennie': 1935, 'The Kitchin': 1936, 'my grandson and I': 1937, ' uses': 1938, 'Book me a table at': 1939, 'oct. the 6th': 1940, 'Boreas': 1941, 'Mountain Lakes': 1942, 'Hypoluxo': 1943, '138th St': 1944, '02:53': 1945, 'Newtown': 1946, 'reuben sandwich': 1947, 'North Salt Lake': 1948, 'in thirty three days': 1949, 'January the twentieth': 1950, 'Need to book a table at a': 1951, 'Burkina': 1952, 'friday': 1953, 'I need a reservation': 1954, 'Johnson': 1955, 'me, angela and mercedes': 1956, 'Ledoux': 1957, 'oreo': 1958, 'Bonita': 1959, 'ava gonzales, raquel brown and I': 1960, '5 hours from now': 1961, 'Bienville': 1962, 'Cozy Dog Drive In': 1963, 'june the 15th': 1964, 'Forest Av': 1965, 'Blue Anchor': 1966, 'Brooklyn Bridge-City Hall': 1967, '45 weeks from now': 1968, 'Laurelhurst Theater': 1969, 'AS': 1970, 'marlene, jordan and I': 1971, 'march the 20th': 1972, ' want to eat at an': 1973, 'Grandview Heights': 1974, 'Exell': 1975, 'this Autumn': 1976, 'jain': 1977, 'The Halal Guys': 1978, 'twelve': 1979, 'I would like reservations to a': 1980, 'martin luther king jr. day': 1981, 'Follett': 1982, 'july the fourteenth, 2022': 1983, ' of us to a': 1984, 'Yakima': 1985, 'Midland Park': 1986, 'southern brazilian': 1987, 'Book a reservation for a party of': 1988, ' oclock in': 1989, 'croissant': 1990, 'i need a table at a': 1991, 'Apr.': 1992, 'my step son and I': 1993, 'Jan. 22nd': 1994, 'Book reservations at': 1995, 'I want to check out a': 1996, 'Need a resevation for a': 1997, 'Kellerton': 1998, 'in 10 years': 1999, '21:05:17': 2000, 'ankimo': 2001, 'Dutchess Manor': 2002, 'Bow Mar': 2003, 'sherry and concepcion': 2004, 'Reserve a table in': 2005, 'feb': 2006, 'in 5 years': 2007, ' for the city of': 2008, 'Rustic inn': 2009, 'nov. the twenty-sixth': 2010, 'Ludlow': 2011, 'july the tenth': 2012, 'Kellnersville': 2013, 'evening': 2014, 'Belhaven': 2015, 'please book a': 2016, ' need reservations for somewhere in': 2017, '10': 2018, 'Mar. eighteenth, 2030': 2019, ' this': 2020, 'I need to book a table at a place': 2021, 'Hord': 2022, 'Culver City': 2023, 'vegetarian': 2024, 'jeanne collins, amy and I': 2025, 'marche': 2026, 'RingSide Steakhouse': 2027, 'neighboring area': 2028, ' I need a': 2029, 'El Salvador': 2030, ' having': 2031, '10 pm': 2032, 'Haiti': 2033, ' for some': 2034, 'The Mustard Seed': 2035, 'rita and brenda': 2036, 'kirsten morris and I': 2037, \"I'd like to reserve a table at a\": 2038, 'Pelland': 2039, 'Fisk Av-69th St': 2040, 'Book me a reservation for': 2041, 'LA': 2042, 'sardinian': 2043, 'me and my great grandfather': 2044, ' after us': 2045, 'I need to get a': 2046, 'I have a party of': 2047, \"I'd like to get reservations at a\": 2048, 'Isle of Man': 2049, 'Find me a table for a': 2050, 'february 13': 2051, \"I'm looking to reserve a table at a\": 2052, 'Book me a reservation': 2053, 'IL': 2054, 'East Brady': 2055, 'NY': 2056, 'Maid-Rite Sandwich Shop': 2057, 'in two hundred sixty nine days': 2058, ' will be in': 2059, ' from now at somewhere': 2060, '  with': 2061, 'in the same area': 2062, ' of us.': 2063, ' and we want to go to a': 2064, 'in 1 year': 2065, 'nine PM': 2066, 'Sierraville': 2067, 'OH': 2068, 'Nappanee': 2069, 'Can you get me reservations for a': 2070, 'not': 2071, 'I need to go to a': 2072, ' with': 2073, \"I'm hoping to find a table for\": 2074, \"I'm looking to book a table at a place in\": 2075, 'Jamaica': 2076, 'November the first, 2022': 2077, 'I would like reservations for': 2078, 'Åland': 2079, '13:22:34': 2080, '10/14/2026': 2081, 'my girlfriend and I': 2082, 'Iowa City': 2083, 'book a table for a': 2084, 'The Fry Bread House': 2085, 'Can you get seating for': 2086, 'Milladore': 2087, 'potato salad': 2088, ' people at': 2089, ' person.': 2090, 'Turkmenistan': 2091, ' cusinie': 2092, 'meredith, betty and erika': 2093, 'Fargo': 2094, 'Nisswa': 2095, 'three hours from now': 2096, 'Gate City': 2097, 'three hundred thirty three days from now': 2098, ' to': 2099, 'next winter': 2100, 'halal': 2101, 'jacqueline wilson and deanna': 2102, 'their hostel': 2103, 'I want seats for': 2104, 'Graf': 2105, 'Jan. 3': 2106, 'Gurabo': 2107, 'Olton': 2108, 'Mississippi': 2109, ' somewhere in': 2110, 'december 22': 2111, 'me, rachelle and wilda': 2112, 'Turtle Creek': 2113, 'Find a reservation': 2114, 'Christina': 2115, 'Frisco City': 2116, '11:16:07': 2117, 'MI': 2118, 'Delaware': 2119, ' members for': 2120, 'august the 16th': 2121, ' from here at': 2122, '163 days from now': 2123, 'mac and cheese': 2124, 'February the 10th': 2125, '20 hours from now': 2126, 'chowder': 2127, 'Iron Gates': 2128, 'leonor mendoza, imogene and lisa sanchez': 2129, 'margie and I': 2130, 'four AM': 2131, 'clafoutis': 2132, 'Ballachulish House': 2133, ', could you help?': 2134, 'need to book a table in': 2135, '103rd St': 2136, 'sushi': 2137, ' I have': 2138, 'Hecker': 2139, \"I'm looking to book a spot at a\": 2140, 'maharashtrian': 2141, 'Senegal': 2142, 'Macedonia': 2143, 'Jordan': 2144, 'table at': 2145, 'South Farmingdale': 2146, 'Asiate': 2147, 'kosher': 2148, 'Floating restaurant': 2149, 'rabbit pie': 2150, ' for food': 2151, 'ME': 2152, \"your daughter's campus\": 2153, 'PA': 2154, 'Timberville': 2155, 'sixteen hours': 2156, 'udupi': 2157, 'Idaho': 2158, 'The One Eighty': 2159, 'February 24th, 2039': 2160, ' people to eat at': 2161, 'GA': 2162, 'Hurffville': 2163, 'Armour': 2164, \"I'd like to eat with a party of\": 2165, 'The Electric Banana': 2166, 'Can you reserve a table': 2167, 'Independence Corner': 2168, \"robin's hotel\": 2169, 'crab': 2170, '. Please book a': 2171, 'lobster roll': 2172, 'me and my sister': 2173, 'brigitte taylor, katelyn and natalie': 2174, 'David Carpenter House': 2175, 'my father and I': 2176, 'I would like an': 2177, 'jan and I': 2178, ' provider': 2179, 'in 19 hours and 1 second': 2180, 'my gf and I': 2181, \"I'd like to book a table at\": 2182, 'WV': 2183, 'I need reservations at': 2184, ' for the next': 2185, 'truffade': 2186, ' and a': 2187, 'elba and corina': 2188, 'Tunisia': 2189, 'selma and molly': 2190, 'minestra': 2191, 'molecular gastronomy': 2192, 'City Tavern': 2193, 'Red Square': 2194, 'Jun. the 11th, 2034': 2195, 'Cameroon': 2196, 'Robinette': 2197, 'Please book a room to accommodate': 2198, 'Book a': 2199, 'Jagual': 2200, \"yolanda's apartment\": 2201, 'WI': 2202, 'Rainforest Cafe': 2203, 'Comunas': 2204, '9': 2205, 'nearby': 2206, ' for the': 2207, 'jeanne and charlotte': 2208, 'The Triple Door': 2209, 'Feb. 15th, 2029': 2210, 'robyn martinez, maude and I': 2211, 'Would like to book a': 2212, 'Make a reservation': 2213, 'Democratic Republic of the Congo': 2214, 'The Crown at Whitebrook': 2215, 'Louisiana': 2216, 'Aruba': 2217, 'rajasthani': 2218, 'greek': 2219, 'Michigan': 2220, 'Book a table at an': 2221, 'Panama': 2222, 'book me a': 2223, 'East Uniontown': 2224, ' at the nearest': 2225, 'Oman': 2226, 'Can I book a': 2227, 'fern and I': 2228, 'Meers': 2229, 'I need a table at the': 2230, \"I'd like to book a\": 2231, 'Leonville': 2232, ' people for': 2233, 'cupcakes': 2234, 'District Of Columbia': 2235, 'Snapfinger': 2236, 'What is the': 2237, 'Blodgett': 2238, \"one o'clock\": 2239, 'hangtown fry': 2240, 'lunch': 2241, 'Newport Creamery': 2242, 'I want eat at the': 2243, 'Angola': 2244, 'Coney I-Lander': 2245, 'soul food': 2246, 'Hitchland': 2247, 'me and my mom': 2248, '6/1/2027': 2249, 'corn relish': 2250, 'feb. the twenty-fourth': 2251, '  at': 2252, 'AMerican Samoa': 2253, 'China': 2254, 'chichi': 2255, 'The Unseen Bean': 2256, 'Need book a': 2257, 'Bynum': 2258, ' my': 2259, 'Can you get me a reservation at': 2260, ' and want to eat somwhere': 2261, 'steak sauce': 2262, 'carne pizzaiola': 2263, 'Black Rapids Roadhouse': 2264, 'Arkport': 2265, 'tyrolean': 2266, 'Five Fifty-Five': 2267, 'elsa and wendy': 2268, 'latin': 2269, 'tammi, beverly and alba': 2270, 'Iran': 2271, 'me, edna and glenda': 2272, ' food that has room for': 2273, ' around': 2274, 'Aug. the 3rd': 2275, ' want to eat': 2276, 'I would like to book at': 2277, '5 AM': 2278, '7 am': 2279, ' reservation for a party of': 2280, \"fran's location\": 2281, 'feb. the twenty-sixth, 2026': 2282, 'East Prairie': 2283, 'I need to book a reservation in': 2284, 'potée': 2285, 'vegan': 2286, 'me and my daughters': 2287, 'north indian': 2288, 'me, silvia and sandy': 2289, 'Lauderdale Lakes': 2290, 'Gabon': 2291, 'ten minutes from now': 2292, 'I need a reservation at': 2293, 'Peru': 2294, 'Make me a reservation that serves': 2295, 'Hagaman': 2296, 'Darnell': 2297, 'july 20th': 2298, 'Can you get me seating for': 2299, ' that can accommodate a party of': 2300, '8 seconds from now': 2301, ' restaurant for': 2302, 'Micronesia': 2303, 'Holtville': 2304, 'Dec. 13, 2018': 2305, ' facility for': 2306, 'Please get seating for': 2307, 'I need to book a table for': 2308, 'Find a reservation in': 2309, 'Coronado': 2310, 'Ansonia': 2311, 'Restaurants in Washington, D.C.': 2312, 'ash wednesday': 2313, \"fisn'n chips\": 2314, 'pool': 2315, ' place on': 2316, 'Ward Springs': 2317, 'Enfield': 2318, 'Columbus Junction': 2319, 'Districts of Sweden': 2320, 'pub': 2321, 'Can I get a': 2322, 'feb. 20, 2040': 2323, ' somewhere': 2324, 'my sons and I': 2325, 'Switzerland': 2326, 'Slovakia': 2327, 'romagna': 2328, 'Green Isle': 2329, 'I need a table right': 2330, 'City of Wakefield': 2331, 'Patetown': 2332, 'John Pearson Soda Works': 2333, 'me and therese': 2334, ' place': 2335, 'Modesto': 2336, '2 am': 2337, \"I'm in\": 2338, 'I need to book an': 2339, 'Hitchita': 2340, 'I would like to book': 2341, 'Ivory Coast': 2342, '00:32 am': 2343, 'book sot for': 2344, \"lincoln's birthday/lincoln's day\": 2345, 'Ukraine': 2346, '7/25/2027': 2347, 'Paraguay': 2348, '1 am': 2349, 'in 1 minute': 2350, 'Birch Run': 2351, 'I want to book': 2352, 'Colorado City': 2353, 'Robinson House': 2354, ' facility to accommodate': 2355, 'CO': 2356, 'I need a table at a': 2357, 'Montserrat': 2358, 'Booker': 2359, 'I need a booking for': 2360, 'Jansen': 2361, 'tia, madeline and estela': 2362, '  in': 2363, 'in 37 weeks': 2364, 'tropézienne': 2365, 'tatar': 2366, ' and want': 2367, ' late at': 2368, 'chasity and I': 2369, ' that has space for': 2370, ' that sells': 2371, 'creamed eggs on toast': 2372, 'me and hannah': 2373, 'ribs': 2374, 'Please make reservations for': 2375, 'Eucalyptus Hills': 2376, \"shawn's work\": 2377, ' from the': 2378, 'Book a reservation at a': 2379, 'Apache Junction': 2380, \" that isn't too\": 2381, 'Borough de Denali': 2382, '22': 2383, 'Japan': 2384, ' at a': 2385, 'Cohocton': 2386, 'FM': 2387, 'Find and book me a': 2388, 'Please reserve a spot at': 2389, 'mezes': 2390, ' want to dine in': 2391, 'Kane': 2392, 'bar restaurant': 2393, ' seats to eat at in': 2394, ' for dinner': 2395, 'italian dressing': 2396, 'I need a place that serves': 2397, 'Tartine': 2398, 'hot chicken': 2399, 'manadonese': 2400, 'my grandfather and I': 2401, 'East Greenville': 2402, ' need reservations at': 2403, 'Togo': 2404, 'me, maggie and ellen': 2405, 'I want to book a table for': 2406, 'Book the': 2407, 'Vanlue': 2408, 'Sri Lanka': 2409, 'june 27, 2026': 2410, 'Flaxton': 2411, 'Samoa': 2412, '9 and a half months from now': 2413, 'i need to book a': 2414, 'me and my husband': 2415, 'Sealy': 2416, 'Book reservation in': 2417, '0 am': 2418, 'roman': 2419, 'gateau': 2420, 'I need a table for': 2421, ', party for three with': 2422, 'New Mexico': 2423, 'New Zealand': 2424, 'Turks and Caicos Islands': 2425, ' from our': 2426, ' numbers': 2427, '88th St-Boyd Av': 2428, 'Croatia': 2429, 'ammonia cookie': 2430, 'Saratoga Av': 2431, 'salads': 2432, 'two hundred ninety six days from now': 2433, 'Can I get a table at': 2434, 'one hour from now': 2435, 'Aug. 5': 2436, 'Florida': 2437, 'Westernport': 2438, 'Louisiana Fried Chicken': 2439, 'me and imelda': 2440, 'Azerbaijan': 2441, 'joint': 2442, 'a year from now': 2443, ' Book a': 2444, 'sofia phillips and winifred walker': 2445, 'Please make a reservation at': 2446, ' book a table for': 2447, 'six hours from now': 2448, 'Grab a table at a': 2449, ' in the': 2450, 'tonight': 2451, 'Sep. 8, 2033': 2452, '1 hour and 1 minute from now': 2453, 'delicatessen': 2454, 'RI': 2455, ' and has': 2456, ', for': 2457, 'gwen carter and I': 2458, 'Tullytown': 2459, 'February the second, 2018': 2460, 'Roads End': 2461, ' from here': 2462, 'Nov. the 1st': 2463, 'book a spot at a': 2464, \"I'm looking for a table of\": 2465, 'in eleven hours': 2466, 'five and a half months from now': 2467, ' people to a': 2468, 'melba and I': 2469, 'romanian': 2470, 'Poland': 2471, ' for this': 2472, 'tofy': 2473, 'restaurant': 2474, 'Hong Kong': 2475, 'Hallam': 2476, ' and order': 2477, ' that will take': 2478, '0 pm': 2479, 'I need a party of': 2480, 'Lorain': 2481, 'Mauritius': 2482, 'two am': 2483, 'aug. fifth': 2484, 'Needmore': 2485, 'Hornersville': 2486, ' deli': 2487, 'Bhutan': 2488, 'party of': 2489, 'Find me a table for': 2490, 'melva and heidi': 2491, 'set an reservation for a party of': 2492, 'Coalton': 2493, 'four pm': 2494, 'far breton': 2495, 'Verden': 2496, 'april eleventh': 2497, 'Gasconade': 2498, ' friends to the': 2499, 'Zimbabwe': 2500, 'VI': 2501, 'April the twenty-eighth, 2018': 2502, 'toast': 2503, 'alma, deana and olga': 2504, 'ten PM': 2505, 'Belgium': 2506, 'in twelve hours': 2507, 'my nephew and I': 2508, 'sushis': 2509, \"thirteen o'clock\": 2510, 'Iowa': 2511, 'luisa and I': 2512, 'Montana': 2513, 'The Star Inn': 2514, 'souvlaki': 2515, 'Cottondale': 2516, 'mexican': 2517, 'Putnam Hall': 2518, 'Book a table somewhere in': 2519, '7 AM': 2520, \"I'd like to eat\": 2521, 'Mount Repose': 2522, 'Irma': 2523, 'Naytahwaush': 2524, ' from now.': 2525, '8/8/2039': 2526, 'make a table reservation at the': 2527, 'Massachusetts': 2528, 'Book reservation at': 2529, 'Virginia City': 2530, 'Madison Park': 2531, 'donut': 2532, ' want to dine at a': 2533, '3 PM': 2534, 'TKK Fried Chicken': 2535, ' would like a': 2536, 'Botswana': 2537, 'Jul.': 2538, 'Alderwood Manor': 2539, '7/16/2027': 2540, 'SC': 2541, 'german': 2542, 'Osage City': 2543, 'John Ross House': 2544, 'Otho': 2545, 'The Oriel': 2546, 'Livonia Av': 2547, 'in 16 hours': 2548, 'Roach': 2549, \"I'd like to eat at\": 2550, ', for me only,': 2551, 'me and georgina': 2552, 'I am looking for a': 2553, 'neighboring': 2554, 'in one hundred twenty seven days': 2555, 'Graniteville': 2556, 'Mount Pocono': 2557, 'november 19': 2558, 'next Jun.': 2559, \"seventeen o'clock\": 2560, 'London Borough of Enfield': 2561, 'sundanese': 2562, 'Great House at Sonning': 2563, 'Make reservations for': 2564, 'Book a reservation for a parry of': 2565, 'jasmine, jeannie and leta': 2566, ' at one of the': 2567, 'Hutchings': 2568, 'hillary, dina chavez and alexis': 2569, 'verdure': 2570, 'in 345 days': 2571, 'shawna davis, michelle and lizzie': 2572, 'me and my aunt': 2573, 'varenyky': 2574, '23': 2575, 'Palmyra': 2576, 'caucasian': 2577, ' room accommodate for': 2578, 'december 4th, 2019': 2579, 'sicilian': 2580, 'march the twenty-seventh': 2581, 'july 16th, 2022': 2582, 'Jemez Springs': 2583, 'Surf Taco': 2584, 'empanada': 2585, 'Indiana': 2586, 'marjorie vasquez, edith and martina': 2587, 'eastern european': 2588, 'my office': 2589, ' want to visit a': 2590, 'My group of': 2591, 'me, jillian and louella': 2592, 'Village Green': 2593, ' fr': 2594, 'Sterling Run': 2595, 'patty and I': 2596, \"I'd like a reservation for\": 2597, 'grits': 2598, 'my parents and I': 2599, 'Jacob Wirth Restaurant': 2600, 'Kuwait': 2601, 'donuts': 2602, 'halloween': 2603, 'Long Bridge': 2604, ' at a local': 2605, ' that also serves': 2606, 'Make dinner reservation for': 2607, 'me and rosemary': 2608, 'Timbo': 2609, 'six pm': 2610, 'DC': 2611, 'Guinea-Bissau': 2612, 'Grand Portage': 2613, 'lois, effie price and I': 2614, 'The Wolseley': 2615, 'two PM': 2616, 'my child and I': 2617, 'Rockport': 2618, 'Please book me seating at the': 2619, ' reservation': 2620, 'maple bacon donut': 2621, 'lucille and marina': 2622, 'feb. 18': 2623, 'six': 2624, 'January 15th, 2030': 2625, 'my step father and I': 2626, 'outdoor': 2627, 'café liégeois': 2628, 'Thornbury Castle': 2629, 'book a spot at an': 2630, 'Mondovi': 2631, 'deloris, ester and petra alvarez': 2632, 'wilma, gay and I': 2633, 'my location': 2634, 'Waddy': 2635, 'Pataskala': 2636, ' resturant that is a': 2637, 'Northern Mariana Islands': 2638, '  for': 2639, 'October the fifth': 2640, 'make me a reservation at': 2641, ' stle restaraunt in the': 2642, 'connie, earline and rose': 2643, 'fondue': 2644, 'Tonga': 2645, 'Apr. 16': 2646, 'Hotel Arctic': 2647, 'Romania': 2648, ' room with': 2649, 'The Brass Rail': 2650, 'Pleasant City': 2651, 'european': 2652, 'The Restaurant at Meadowood': 2653, 'my colleagues and I': 2654, 'ranch dressing': 2655, 'book some': 2656, 'bagels': 2657, 'Reserve a place to eat on': 2658, ' or the': 2659, 'me and my children': 2660, ' want to eat at a': 2661, 'coleslaw': 2662, 'Make me a reservation in': 2663, ' go to the': 2664, 'me, violet and dianne': 2665, ' with an': 2666, 'vicki and I': 2667, 'London Borough': 2668, 'me and my step daughter': 2669, 'me and robin': 2670, 'Boonton': 2671, 'indoor': 2672, 'Need to book a restaurnt for a party of': 2673, 'Pennsylvania': 2674, 'Midnight': 2675, 'january 25, 2034': 2676, '5 pm': 2677, 'United States': 2678, '17 weeks from now': 2679, 'Book a table for': 2680, 'scandinavian': 2681, 'tavern': 2682, 'Liechtenstein': 2683, \"pauline's place\": 2684, 'rebekah taylor and marcie': 2685, 'meatcake': 2686, ' I want to eat at': 2687, 'French Southern Territories': 2688, 'next August': 2689, 'Estonia': 2690, ' slated': 2691, '72nd St': 2692, 'meze': 2693, 'Burkettsville': 2694, '0 AM': 2695, 'Rocky Mound': 2696, ',': 2697, 'betty and dolly': 2698, 'antoinette and I': 2699, 'area within the same area': 2700, 'sonya, rebekah and I': 2701, 'I would like to book the': 2702, 'Hitchcock': 2703, 'Saint Pierre and Miquelon': 2704, 'Find me a table at a': 2705, ' and for a party of': 2706, 'The Water Club': 2707, 'vickie and caitlin': 2708, 'in 9 years': 2709, 'Marlton Circle': 2710, 'Book a reservation for': 2711, 'Eighth Step Coffee House': 2712, \"I'd like to book\": 2713, 'Pilot Mound': 2714, 'twelve weeks from now': 2715, ' and need to book a table at a': 2716, '9 pm': 2717, ' place for a party of': 2718, 'The Apple Pan': 2719, 'Escondida': 2720, 'Rocksprings': 2721, 'me and my wife': 2722, 'taverna restaurant': 2723, 'Wisconsin': 2724, 'three years from now': 2725, 'Bradford': 2726, 'MH': 2727, 'december the 7th': 2728, 'Myanmar': 2729, 'Can you get me a table reserved for': 2730, 'lacy and I': 2731, 'fast food': 2732, 'me and bonnie': 2733, 'Book reservation at a': 2734, 'madge and tami': 2735, 'Lets go to the': 2736, 'Upper Marlboro': 2737, 'The Kegs Drive-In': 2738, 'in 18 seconds': 2739, ' at a place': 2740, 'I want to make a reservation for': 2741, 'cannelloni': 2742, 'Let me get reservations at a place': 2743, '1 second from now': 2744, ' and craving': 2745, 'me, chandra and noelle': 2746, 'waffle': 2747, 'Fullerville': 2748, '18:49:20': 2749, 'nannie and I': 2750, ' to eat some': 2751, ' for a group of': 2752, ' place for': 2753, 'me, violet and maude': 2754, 'Seabrook': 2755, 'Nevada': 2756, 'me and my roommate': 2757, 'Seeley Lake': 2758, 'Tuolumne City': 2759, 'Holiday': 2760, 'Saint James': 2761, 'I want to make a reservation at the': 2762, 'stracciatella': 2763, 'me and my colleagues': 2764, ' wants to eat at': 2765, 'Arkansas': 2766, 'Canal Fulton': 2767, 'Ravensdale': 2768, 'Juniper': 2769, 'Tajikistan': 2770, 'august 5': 2771, ' a table at a': 2772, 'tanisha, lorena and juliana': 2773, '12 am': 2774, 'Andorra': 2775, '1': 2776, 'PM Park, Clear Lake, Iowa': 2777, 'White Creek': 2778, 'Lawrence St': 2779, 'Walpole': 2780, 'I want to find a': 2781, ' to a place in': 2782, 'Lithuania': 2783, 'Seward Community Cafe': 2784, 'czech': 2785, 'Need a table  for party of': 2786, ' want to go to a': 2787, 'Can you place a reservation for me at': 2788, ', preferably a': 2789, 'me and belinda': 2790, 'Missouri': 2791, 'Ocean Grove': 2792, 'Crown Candy Kitchen': 2793, 'nine years from now': 2794, 'scampi': 2795, 'churrascaria restaurant': 2796, 'Tracyton': 2797, 'Gober': 2798, 'foie gras': 2799, 'West Yellowstone': 2800, 'Shamrock': 2801, 'vickie reed, melody and I': 2802, \"I'd like reservations for\": 2803, 'me and josefa': 2804, 'Municipal Borough of Ealing': 2805, 'I need to book the': 2806, 'Latvia': 2807, 'eight years and a half from now': 2808, 'Cedarburg': 2809, 'Meadow Vale': 2810, 'I need to book a': 2811, 'waffles': 2812, 'Salina': 2813, 'Meriton Grand Hotel Tallinn': 2814, 'my cousin and I': 2815, 'veneto': 2816, 'smelt': 2817, 'me and my baby': 2818, 'august fourth': 2819, 'next Spring': 2820, 'Cherwell Boathouse': 2821, 'Nankin Cafe': 2822, 'I want to make a reservation for a group of': 2823, 'Clarke Cooke House': 2824, \"robbie's hostel\": 2825, \"I'm looking to book a seat at a\": 2826, 'UT': 2827, 'vermicelli': 2828, 'Niagara Falls': 2829, \", I'd like reservations at a\": 2830, 'january the 24th': 2831, ' of us': 2832, ' and need reservations for': 2833, 'Book a table in a': 2834, 'within walking distance': 2835, \"18 o'clock\": 2836, 'July eighth, 2023': 2837, 'Make me a reservation for a party of': 2838, 'Chips': 2839, 'I want to book seats for': 2840, 'Henniker': 2841, 'Washington': 2842, 'Bloom City': 2843, 'faraway': 2844, 'I want to eat somewhere that is': 2845, 'in six years': 2846, 'monique stewart, arlene and jami': 2847, 'in three months': 2848, 'Fork Mountain': 2849, 'Lumpkin': 2850, ' dishes': 2851, 'around': 2852, ' time': 2853, 'The French Laundry': 2854, 'Enid': 2855, 'my colleague and I': 2856, 'lee and ines': 2857, 'Locate the': 2858, 'Astor Place': 2859, 'my father in law and I': 2860, 'clam cake': 2861, 'noon': 2862, 'Week-end': 2863, ' the': 2864, ' and want some': 2865, 'Make a booking for the': 2866, 'Eagle Pass': 2867, ' to be at': 2868, 'book a table': 2869, 'Please get seating at': 2870, 'February 11, 2033': 2871, 'Portland Mills': 2872, '15 minutes': 2873, 'Saint Bonaventure': 2874, 'Maldives': 2875, 'Dominica': 2876, 'Antietam': 2877, 'At': 2878, 'I want a reservation for': 2879, 'East Gillespie': 2880, 'rosie and I': 2881, 'Antarctica': 2882, '01:48:35': 2883, 'Northway': 2884, 'Can you make reservations for a party of': 2885, 'annette, darlene and barbara james': 2886, 'Bouvet Island': 2887, 'in 55 weeks': 2888, 'croquembouche': 2889, 'De Berry': 2890, 'moroccan': 2891, 'Yamhill': 2892, '  make a reservation for a table of': 2893, 'essie, tonya and I': 2894, 'connie scott and madeline': 2895, 'casey and I': 2896, 'nine am': 2897, 'NE': 2898, 'goiano': 2899, 'Burundi': 2900, 'morning': 2901, 'in 15 seconds': 2902, '  at the': 2903, 'Argentina': 2904, 'Grantsburg': 2905, 'Germfask': 2906, 'in 1 hour': 2907, 'Norfolk Island': 2908, ' people': 2909, 'my daughters and I': 2910, ' At': 2911, 'Lebanon': 2912, '3 pm': 2913, 'AR': 2914, 'ouzeri': 2915, 'me and my brother': 2916, 'Perrytown': 2917, 'my son and I': 2918, '  from': 2919, 'reva and bernadine': 2920, 'Alaska': 2921, 'distant': 2922, 'I need to get seats for': 2923, \"I'd like to book a place to eat in\": 2924, 'persian': 2925, 'Brookwood': 2926, 'I want': 2927, 'fish chips': 2928, 'Rose Bud': 2929, '14:41': 2930, 'Rainbow Lakes': 2931, ' for their': 2932, 'sherri and I': 2933, 'Zambia': 2934, \"sondra's university\": 2935, 'mashed pumpkin': 2936, 'Find a reservation at the': 2937, 'Helianthushof': 2938, 'pearl and verna': 2939, 'IA': 2940, 'australian': 2941, 'angelita, susan reed and ashlee watson': 2942, 'I want to eat a a': 2943, 'last Oct.': 2944, 'burgers': 2945, 'I would like to book an': 2946, 'gluten free': 2947, 'The Commons Restaurant': 2948, \"twenty three o'clock\": 2949, 'Cammack Village': 2950, 'bengali': 2951, 'Loogootee': 2952, 'I need seats for': 2953, 'jessie, dale wright and lupe': 2954, 'Crocker': 2955, 'july 18th': 2956, 'I want to go to that': 2957, 'claudia and imelda': 2958, 'May the twenty-third': 2959, ' people that serves': 2960, 'Svalbard and Jan Mayen': 2961, 'ice cream cake': 2962, 'Please book me a table for': 2963, 'cafe': 2964, ' where I live in': 2965, ' cuisine at a': 2966, 'Book me a reservation for a': 2967, 'I want to make a reservation at a': 2968, 'Medford Lakes': 2969, 'Uncommon Grounds Coffeehouse': 2970, ' cuisine.': 2971, 'Hurley Mountain Inn': 2972, 'Union City': 2973, 'Canarsie - Rockaway Parkway': 2974, ' for an': 2975, 'Winnie': 2976, 'Av U': 2977, '5 North St': 2978, 'sunset': 2979, 'Roseland Theater': 2980, 'french': 2981, 'beef manhattan': 2982, 'The Octagon, Christchurch': 2983, ' at any': 2984, ' people who would like to eat at a': 2985, 'Evans Mills': 2986, 'The River Café': 2987, 'Branford': 2988, 'Federal Hill': 2989, ' anywhere in': 2990, 'Delhi': 2991, 'Kosovo': 2992, 'New Hampshire': 2993, 'AL': 2994, 'Vanuatu': 2995, ' for any': 2996, 'me and my nephew': 2997, 'brasserie': 2998, 'I want to get': 2999, 'march 6': 3000, 'Can you make reservations at a': 3001, 'internet': 3002, 'MO': 3003, 'nancy, elma ruiz and molly': 3004, \"I'd like to book at a place in\": 3005, 'in eight seconds': 3006, ' which serves': 3007, 'Seychelles': 3008, 'last december': 3009, 'Book reservations at a restaurant in': 3010, ' that serves a': 3011, 'Please book reservations for': 3012, ' of a': 3013, 'North River': 3014, 'Netherlands Antilles': 3015, 'trentino': 3016, ' need a table booked at a': 3017, 'chicken nugget': 3018, '20:38': 3019, 'hog fry': 3020, ' booking for': 3021, 'seafood': 3022, ' that can seat': 3023, 'I need a reservation for a party of': 3024, 'Dec. 13': 3025, 'Foley': 3026, 'I would like reservations made for': 3027, 'Please call and reserve seating for': 3028, 'Fair Bluff': 3029, 'Mauritania': 3030, 'seven years from now': 3031, 'Colony': 3032, 'wings': 3033, 'Morris Ranch': 3034, 'Grant Av': 3035, 'Climax Springs': 3036, 'eggo': 3037, ' trip that serves': 3038, 'jan. 18, 2029': 3039, \"adeline's apartment\": 3040, 'California': 3041, 'Owenyo': 3042, 'Ringlestone Inn': 3043, 'Rimsky-Korsakoffee House': 3044, 'Can Fabes': 3045, 'Book something at a': 3046, 'area': 3047, ', maybe a': 3048, 'Book me a table at the': 3049, 'Raleigh Hills': 3050, 'I would like to book a': 3051, 'I want to get reservations at a place': 3052, ' food': 3053, 'in twenty three hours and 1 second': 3054, 'Blocher': 3055, 'november seventh, 2037': 3056, ' by and book seats for': 3057, 'bûche de noël': 3058, 'Smith-9th St': 3059, 'Lodi': 3060, 'february the 14th': 3061, '5/20/2028': 3062, 'Washington, D.C. Jewish Community Center': 3063, 'Dec. the twenty-third, 2029': 3064, 'MD': 3065, 'Lafe city': 3066, 'panisses': 3067, 'hawaiian': 3068, 'Reserve in': 3069, 'Make reservations at a': 3070, 'Book at table at a': 3071, 'in 6 years': 3072, 'afghan': 3073, 'Labworth Café': 3074, 'me and my mother in law': 3075, 'gibassier': 3076, 'I need to reserve a seat for': 3077, 'I want reservations at a': 3078, 'WA': 3079, 'gretchen, trisha and amber': 3080, 'need a table somewhere in': 3081, 'I want to book a spot at the local': 3082, '10/22/2030': 3083, 'Montverde': 3084, ' away': 3085, 'Malta': 3086, 'I want to book a table for a party of': 3087, 'Montreal Pool Room': 3088, 'Malin': 3089, 'Wallington': 3090, ' cuisine': 3091, 'pizzas': 3092, 'Book spot for': 3093, 'sep. 23, 2023': 3094, 'Temperance': 3095, \"20 o'clock\": 3096, ' that is': 3097, 'lebanese': 3098, 'olives': 3099, 'The Coffee Bean & Tea Leaf': 3100, 'Virginia': 3101, 'me, edna and alyson': 3102, ' or': 3103, 'best rated': 3104, 'CHAR No.4': 3105, 'I would like to book at a': 3106, ' located at': 3107, 'Fiji': 3108, 'andouillettes': 3109, 'restaurant  joint': 3110, 'Book a party of': 3111, 'Book a table at the': 3112, 'Steinway St': 3113, 'Leopold': 3114, '8 AM': 3115, 'in seven months': 3116, 'book a table in the': 3117, 'I would like to make a reservation for': 3118, 'Greece': 3119, 'on': 3120, 'Glenarden': 3121, 'Mars 2112': 3122, 'Texas': 3123, ' a': 3124, \"my baby's work\": 3125, 'Half Moon': 3126, 'middle eastern': 3127, '18:28': 3128, 'Colombia': 3129, 'Reserve me seating': 3130, 'lidia, latasha and diann': 3131, 'midday': 3132, '00:37 PM': 3133, '2': 3134, 'Woodsfield': 3135, 'my friend and I': 3136, \"sixteen o'clock\": 3137, 'wifi': 3138, 'rillettes': 3139, 'Make me a reservation': 3140, 'Nov. the 4th, 2030': 3141, 'Maryland': 3142, ' as the': 3143, 'joanna and ella': 3144, ' that will seat': 3145, 'Rockaway Park-Beach 116th': 3146, ' reserved in': 3147, 'balinese': 3148, 'West Whittier': 3149, 'The Vortex Bar & Grill': 3150, ' to eat at in': 3151, 'apr. the sixteenth, 2027': 3152, 'Conshohocken': 3153, 'eleven hours from now': 3154, 'Book restaurnt at': 3155, 'Flossmoor': 3156, 'The Peak Lookout': 3157, '19:26': 3158, ' would like to go to a': 3159, \"I'd like to book a table at a\": 3160, 'kristine, alisha and florine': 3161, 'september second': 3162, ' that servec': 3163, 'Make me a reservation somewhere': 3164, 'United Arab Emirates': 3165, ' which has': 3166, 'three': 3167, ' as my': 3168, ' during my': 3169, 'Baker’s Keyboard Lounge': 3170, 'Book me an': 3171, 'Fleetwood': 3172, 'James D. Conrey House': 3173, 'october 9': 3174, 'I want to book a': 3175, 'Vatican': 3176, 'Kyrgyzstan': 3177, 'Netherlands': 3178, 'four': 3179, ' want to eat somewhere': 3180, 'Find a table somewhere for': 3181, ' serves': 3182, 'Indonesia': 3183, 'my teenager and I': 3184, 'COVA': 3185, ' with a party of': 3186, 'Germania': 3187, 'Macao': 3188, 'claudine, kelsey and shelley': 3189, 'I want to book reservations for': 3190, 'parking': 3191, 'fries': 3192, 'pickled cucumber': 3193, 'stuffed ham': 3194, ' dishes, that will take reservations for': 3195, 'Rhodes Twenty Four': 3196, 'Minnesota': 3197, 'Can you find me reservations for this': 3198, 'Niger': 3199, 'Municipal Borough of Farnworth': 3200, 'Mango': 3201, 'Sandstone': 3202, 'Sparks': 3203, 'Homer City': 3204, 'Thompsontown': 3205, 'january third': 3206, 'gratin': 3207, 'march sixth, 2038': 3208, 'Top of the Mark': 3209, 'Book a table for a party of': 3210, '. in': 3211, 'Yeager': 3212, 'The Pump Room, Chicago': 3213, 'Jean-Georges': 3214, 'me and jami': 3215, ' want to food at a': 3216, ' and I need a table for': 3217, 'South Duxbury': 3218, 'Taiwan': 3219, 'ENDPAD': 3220}\n"
     ]
    }
   ],
   "source": [
    "word2idx = {w: i for i, w in enumerate(words)}\n",
    "tag2idx =  {t: i for i, t in enumerate(tags)}\n",
    "print(\"Word to index:\",word2idx)"
   ]
  },
  {
   "cell_type": "code",
   "execution_count": 13,
   "metadata": {},
   "outputs": [
    {
     "data": {
      "text/plain": [
       "{'O': 5,\n",
       " 'city': 10,\n",
       " 'country': 9,\n",
       " 'cuisine': 11,\n",
       " 'facility': 14,\n",
       " 'party_size_description': 1,\n",
       " 'party_size_number': 12,\n",
       " 'poi': 6,\n",
       " 'restaurant_name': 2,\n",
       " 'restaurant_type': 4,\n",
       " 'served_dish': 3,\n",
       " 'sort': 0,\n",
       " 'spatial_relation': 13,\n",
       " 'state': 7,\n",
       " 'timeRange': 8}"
      ]
     },
     "execution_count": 13,
     "metadata": {},
     "output_type": "execute_result"
    }
   ],
   "source": [
    "tag2idx"
   ]
  },
  {
   "cell_type": "code",
   "execution_count": 14,
   "metadata": {},
   "outputs": [],
   "source": [
    "X = [[word2idx[w[0]] for w in s] for s in sentences]\n",
    "\n",
    "X = pad_sequences(maxlen=maxlen, sequences=X, padding=\"post\",value=n_words - 1)\n"
   ]
  },
  {
   "cell_type": "code",
   "execution_count": 15,
   "metadata": {},
   "outputs": [
    {
     "name": "stdout",
     "output_type": "stream",
     "text": [
      "Before padding: [5, 2, 4, 5, 7, 5, 8]\n",
      "After padding: [5 2 4 5 7 5 8 5 5 5 5 5 5 5 5]\n",
      "Categorical Data:\n",
      "[[0. 0. 0. 0. 0. 1. 0. 0. 0. 0. 0. 0. 0. 0. 0.]\n",
      " [0. 0. 1. 0. 0. 0. 0. 0. 0. 0. 0. 0. 0. 0. 0.]\n",
      " [0. 0. 0. 0. 1. 0. 0. 0. 0. 0. 0. 0. 0. 0. 0.]\n",
      " [0. 0. 0. 0. 0. 1. 0. 0. 0. 0. 0. 0. 0. 0. 0.]\n",
      " [0. 0. 0. 0. 0. 0. 0. 1. 0. 0. 0. 0. 0. 0. 0.]\n",
      " [0. 0. 0. 0. 0. 1. 0. 0. 0. 0. 0. 0. 0. 0. 0.]\n",
      " [0. 0. 0. 0. 0. 0. 0. 0. 1. 0. 0. 0. 0. 0. 0.]\n",
      " [0. 0. 0. 0. 0. 1. 0. 0. 0. 0. 0. 0. 0. 0. 0.]\n",
      " [0. 0. 0. 0. 0. 1. 0. 0. 0. 0. 0. 0. 0. 0. 0.]\n",
      " [0. 0. 0. 0. 0. 1. 0. 0. 0. 0. 0. 0. 0. 0. 0.]\n",
      " [0. 0. 0. 0. 0. 1. 0. 0. 0. 0. 0. 0. 0. 0. 0.]\n",
      " [0. 0. 0. 0. 0. 1. 0. 0. 0. 0. 0. 0. 0. 0. 0.]\n",
      " [0. 0. 0. 0. 0. 1. 0. 0. 0. 0. 0. 0. 0. 0. 0.]\n",
      " [0. 0. 0. 0. 0. 1. 0. 0. 0. 0. 0. 0. 0. 0. 0.]\n",
      " [0. 0. 0. 0. 0. 1. 0. 0. 0. 0. 0. 0. 0. 0. 0.]]\n",
      "(15, 15)\n"
     ]
    }
   ],
   "source": [
    "y = [[tag2idx[w[1]] for w in s] for s in sentences]\n",
    "print(\"Before padding:\",y[0])\n",
    "y = pad_sequences(maxlen=maxlen, sequences=y, padding=\"post\", value=tag2idx[\"O\"])\n",
    "print(\"After padding:\",y[0])\n",
    "print(\"Categorical Data:\")\n",
    "y = [to_categorical(i, num_classes=n_tags) for i in y]\n",
    "print(y[0])\n",
    "print(y[0].shape)"
   ]
  },
  {
   "cell_type": "code",
   "execution_count": 16,
   "metadata": {},
   "outputs": [],
   "source": [
    "X_train, X_test, y_train, y_test = train_test_split(X, y, test_size=0.2)"
   ]
  },
  {
   "cell_type": "code",
   "execution_count": 17,
   "metadata": {},
   "outputs": [
    {
     "name": "stdout",
     "output_type": "stream",
     "text": [
      "3221\n"
     ]
    }
   ],
   "source": [
    "print(n_words)"
   ]
  },
  {
   "cell_type": "markdown",
   "metadata": {},
   "source": [
    "### 11. Neural Network Model"
   ]
  },
  {
   "cell_type": "code",
   "execution_count": 18,
   "metadata": {},
   "outputs": [
    {
     "name": "stderr",
     "output_type": "stream",
     "text": [
      "C:\\ProgramData\\Anaconda3\\envs\\py36\\lib\\site-packages\\ipykernel_launcher.py:7: UserWarning: Update your `Dense` call to the Keras 2 API: `Dense(1200, activation=\"relu\", kernel_constraint=<keras.con...)`\n",
      "  import sys\n"
     ]
    },
    {
     "name": "stdout",
     "output_type": "stream",
     "text": [
      "_________________________________________________________________\n",
      "Layer (type)                 Output Shape              Param #   \n",
      "=================================================================\n",
      "embedding_1 (Embedding)      (None, 15, 15)            48315     \n",
      "_________________________________________________________________\n",
      "dropout_1 (Dropout)          (None, 15, 15)            0         \n",
      "_________________________________________________________________\n",
      "dense_1 (Dense)              (None, 15, 1200)          19200     \n",
      "_________________________________________________________________\n",
      "bidirectional_1 (Bidirection (None, 15, 200)           1040800   \n",
      "_________________________________________________________________\n",
      "time_distributed_1 (TimeDist (None, 15, 15)            3015      \n",
      "=================================================================\n",
      "Total params: 1,111,330\n",
      "Trainable params: 1,111,330\n",
      "Non-trainable params: 0\n",
      "_________________________________________________________________\n"
     ]
    }
   ],
   "source": [
    "#model\n",
    "model = Sequential()\n",
    "\n",
    "model.add(Embedding(input_dim=n_words, output_dim=15, input_length=15)) #to change words to ints\n",
    "\n",
    "model.add(Dropout(0.1))\n",
    "model.add(Dense(1200, activation='relu',W_constraint=maxnorm(1)))\n",
    "model.add(Bidirectional(LSTM(units=100, return_sequences=True, recurrent_dropout=0.1)))\n",
    "model.add(TimeDistributed(Dense(n_tags, activation=\"softmax\")))\n",
    "model.summary()"
   ]
  },
  {
   "cell_type": "code",
   "execution_count": 19,
   "metadata": {},
   "outputs": [],
   "source": [
    "# input = Input(shape=(13,))\n",
    "# model = Embedding(input_dim=n_words, output_dim=13, input_length=13)(input)\n",
    "# model = Dropout(0.1)(model)\n",
    "# model = Bidirectional(LSTM(units=100, return_sequences=True, recurrent_dropout=0.1))(model)\n",
    "# out = TimeDistributed(Dense(n_tags, activation=\"softmax\"))(model)  # softmax output layer\n",
    "# model = Model(input, out)\n",
    "# model.compile(optimizer=\"adam\", loss=\"categorical_crossentropy\", metrics=[\"accuracy\"])"
   ]
  },
  {
   "cell_type": "code",
   "execution_count": 20,
   "metadata": {},
   "outputs": [
    {
     "name": "stdout",
     "output_type": "stream",
     "text": [
      "Train on 1262 samples, validate on 316 samples\n",
      "Epoch 1/35\n",
      "1262/1262 [==============================] - 5s 4ms/step - loss: 1.3216 - acc: 0.7649 - val_loss: 0.9356 - val_acc: 0.7757\n",
      "Epoch 2/35\n",
      "1262/1262 [==============================] - 2s 1ms/step - loss: 0.8444 - acc: 0.7848 - val_loss: 0.8222 - val_acc: 0.7757\n",
      "Epoch 3/35\n",
      "1262/1262 [==============================] - 2s 1ms/step - loss: 0.6685 - acc: 0.8067 - val_loss: 0.5814 - val_acc: 0.8245\n",
      "Epoch 4/35\n",
      "1262/1262 [==============================] - 2s 1ms/step - loss: 0.4438 - acc: 0.8563 - val_loss: 0.4165 - val_acc: 0.8665\n",
      "Epoch 5/35\n",
      "1262/1262 [==============================] - 2s 1ms/step - loss: 0.3039 - acc: 0.9016 - val_loss: 0.3257 - val_acc: 0.8956\n",
      "Epoch 6/35\n",
      "1262/1262 [==============================] - 2s 1ms/step - loss: 0.2225 - acc: 0.9307 - val_loss: 0.2869 - val_acc: 0.9171\n",
      "Epoch 7/35\n",
      "1262/1262 [==============================] - 2s 1ms/step - loss: 0.1587 - acc: 0.9582 - val_loss: 0.2690 - val_acc: 0.9262\n",
      "Epoch 8/35\n",
      "1262/1262 [==============================] - 2s 1ms/step - loss: 0.1151 - acc: 0.9710 - val_loss: 0.2710 - val_acc: 0.9304\n",
      "Epoch 9/35\n",
      "1262/1262 [==============================] - 2s 1ms/step - loss: 0.0837 - acc: 0.9790 - val_loss: 0.2654 - val_acc: 0.9325\n",
      "Epoch 10/35\n",
      "1262/1262 [==============================] - 2s 2ms/step - loss: 0.0591 - acc: 0.9853 - val_loss: 0.2605 - val_acc: 0.9335\n",
      "Epoch 11/35\n",
      "1262/1262 [==============================] - 2s 1ms/step - loss: 0.0430 - acc: 0.9903 - val_loss: 0.2589 - val_acc: 0.9371\n",
      "Epoch 12/35\n",
      "1262/1262 [==============================] - 2s 2ms/step - loss: 0.0324 - acc: 0.9930 - val_loss: 0.2484 - val_acc: 0.9382\n",
      "Epoch 13/35\n",
      "1262/1262 [==============================] - 2s 1ms/step - loss: 0.0248 - acc: 0.9950 - val_loss: 0.2542 - val_acc: 0.9384\n",
      "Epoch 14/35\n",
      "1262/1262 [==============================] - 2s 1ms/step - loss: 0.0207 - acc: 0.9956 - val_loss: 0.2567 - val_acc: 0.9386\n",
      "Epoch 15/35\n",
      "1262/1262 [==============================] - 2s 1ms/step - loss: 0.0166 - acc: 0.9970 - val_loss: 0.2636 - val_acc: 0.9397\n",
      "Epoch 16/35\n",
      "1262/1262 [==============================] - 2s 2ms/step - loss: 0.0139 - acc: 0.9973 - val_loss: 0.2652 - val_acc: 0.9403\n",
      "Epoch 17/35\n",
      "1262/1262 [==============================] - 2s 1ms/step - loss: 0.0126 - acc: 0.9975 - val_loss: 0.2680 - val_acc: 0.9397\n",
      "Epoch 18/35\n",
      "1262/1262 [==============================] - 2s 2ms/step - loss: 0.0106 - acc: 0.9980 - val_loss: 0.2702 - val_acc: 0.9403\n",
      "Epoch 19/35\n",
      "1262/1262 [==============================] - 2s 1ms/step - loss: 0.0090 - acc: 0.9982 - val_loss: 0.2793 - val_acc: 0.9390\n",
      "Epoch 20/35\n",
      "1262/1262 [==============================] - 2s 1ms/step - loss: 0.0084 - acc: 0.9985 - val_loss: 0.2796 - val_acc: 0.9388\n",
      "Epoch 21/35\n",
      "1262/1262 [==============================] - 2s 1ms/step - loss: 0.0073 - acc: 0.9986 - val_loss: 0.2820 - val_acc: 0.9376\n",
      "Epoch 22/35\n",
      "1262/1262 [==============================] - 2s 1ms/step - loss: 0.0066 - acc: 0.9989 - val_loss: 0.2852 - val_acc: 0.9382\n",
      "Epoch 23/35\n",
      "1262/1262 [==============================] - 2s 1ms/step - loss: 0.0063 - acc: 0.9989 - val_loss: 0.2869 - val_acc: 0.9373\n",
      "Epoch 24/35\n",
      "1262/1262 [==============================] - 2s 1ms/step - loss: 0.0063 - acc: 0.9986 - val_loss: 0.2910 - val_acc: 0.9384\n",
      "Epoch 25/35\n",
      "1262/1262 [==============================] - 2s 1ms/step - loss: 0.0054 - acc: 0.9990 - val_loss: 0.2827 - val_acc: 0.9388\n",
      "Epoch 26/35\n",
      "1262/1262 [==============================] - 2s 1ms/step - loss: 0.0049 - acc: 0.9991 - val_loss: 0.2897 - val_acc: 0.9399\n",
      "Epoch 27/35\n",
      "1262/1262 [==============================] - 2s 1ms/step - loss: 0.0044 - acc: 0.9993 - val_loss: 0.2893 - val_acc: 0.9399\n",
      "Epoch 28/35\n",
      "1262/1262 [==============================] - 2s 1ms/step - loss: 0.0035 - acc: 0.9994 - val_loss: 0.2922 - val_acc: 0.9388\n",
      "Epoch 29/35\n",
      "1262/1262 [==============================] - 2s 1ms/step - loss: 0.0033 - acc: 0.9993 - val_loss: 0.3022 - val_acc: 0.9388\n",
      "Epoch 30/35\n",
      "1262/1262 [==============================] - 2s 1ms/step - loss: 0.0035 - acc: 0.9990 - val_loss: 0.2983 - val_acc: 0.9390\n",
      "Epoch 31/35\n",
      "1262/1262 [==============================] - 2s 1ms/step - loss: 0.0031 - acc: 0.9994 - val_loss: 0.3036 - val_acc: 0.9392\n",
      "Epoch 32/35\n",
      "1262/1262 [==============================] - 2s 1ms/step - loss: 0.0028 - acc: 0.9995 - val_loss: 0.2941 - val_acc: 0.9395\n",
      "Epoch 33/35\n",
      "1262/1262 [==============================] - 2s 1ms/step - loss: 0.0026 - acc: 0.9996 - val_loss: 0.3029 - val_acc: 0.9395\n",
      "Epoch 34/35\n",
      "1262/1262 [==============================] - 2s 1ms/step - loss: 0.0021 - acc: 0.9997 - val_loss: 0.3001 - val_acc: 0.9386\n",
      "Epoch 35/35\n",
      "1262/1262 [==============================] - 2s 1ms/step - loss: 0.0021 - acc: 0.9997 - val_loss: 0.2982 - val_acc: 0.9397\n"
     ]
    }
   ],
   "source": [
    "model.compile(optimizer=\"adam\", loss=\"categorical_crossentropy\", metrics=[\"accuracy\"])\n",
    "history = model.fit(X_train, np.array(y_train), batch_size=32, epochs=35, validation_split=0.2, verbose=1)"
   ]
  },
  {
   "cell_type": "code",
   "execution_count": 21,
   "metadata": {},
   "outputs": [
    {
     "name": "stdout",
     "output_type": "stream",
     "text": [
      "395/395 [==============================] - 0s 487us/step\n",
      "Test accuracy: 0.9417721550675887 %\n"
     ]
    }
   ],
   "source": [
    "score = model.evaluate(np.array(X_test), np.array(y_test), verbose=1)\n",
    "print('Test accuracy:', score[1],'%')\n"
   ]
  },
  {
   "cell_type": "code",
   "execution_count": 22,
   "metadata": {},
   "outputs": [
    {
     "name": "stdout",
     "output_type": "stream",
     "text": [
      "Restaurant     : restaurant_type\n",
      " in            : O\n",
      "Brokaw         : party_size_description\n",
      " for a cuisine : party_size_description\n",
      "russian        : cuisine\n",
      "far            : spatial_relation\n",
      "restaurant     : restaurant_type\n",
      "ENDPAD         : O\n",
      "ENDPAD         : O\n",
      "ENDPAD         : O\n",
      "ENDPAD         : O\n",
      "ENDPAD         : O\n",
      "ENDPAD         : O\n",
      "ENDPAD         : O\n",
      "ENDPAD         : O\n"
     ]
    }
   ],
   "source": [
    "i = 0\n",
    "p = model.predict(np.array([X_test[i]]))\n",
    "p = np.argmax(p, axis=-1)\n",
    "for w,pred in zip(X_test[i],p[0]):\n",
    "    print(\"{:15}: {}\".format(words[w],tags[pred]))"
   ]
  },
  {
   "cell_type": "code",
   "execution_count": 23,
   "metadata": {},
   "outputs": [
    {
     "name": "stdout",
     "output_type": "stream",
     "text": [
      "[506, 3220, 2474, 3220, 3191, 3220, 3220, 822]\n",
      "[5, 5, 4, 5, 14, 5, 5, 12, 5, 5, 5, 5, 5, 5, 5]\n",
      "Word: Book               Tag: O\n",
      "Word: a               Tag: O\n",
      "Word: restaurant               Tag: restaurant_type\n",
      "Word: with               Tag: O\n",
      "Word: parking               Tag: facility\n",
      "Word: facility               Tag: O\n",
      "Word: for               Tag: O\n",
      "Word: 3               Tag: party_size_number\n"
     ]
    }
   ],
   "source": [
    "sequences =[]\n",
    "sentence = \"Book a restaurant with parking facility for 3\"\n",
    "for word in sentence.split(\" \"):\n",
    "    try:\n",
    "        sequences.append(word2idx[word])\n",
    "    except:\n",
    "        sequences.append(word2idx['ENDPAD'])    \n",
    "print(sequences)        \n",
    "padded_sequence = pad_sequences(maxlen=maxlen, sequences=[sequences], padding=\"post\",value=n_words - 1)\n",
    "p = model.predict([padded_sequence])\n",
    "p = np.argmax(p, axis=-1)\n",
    "tag_list = []\n",
    "for i in p:\n",
    "    for j in i:\n",
    "        tag_list.append(j)\n",
    "print(tag_list)\n",
    "for i in p:\n",
    "    count = 0\n",
    "    for j in sentence.split():\n",
    "        print(\"Word:\",j,\"             \",\"Tag:\",tags[tag_list[count]])\n",
    "        count = count + 1"
   ]
  },
  {
   "cell_type": "code",
   "execution_count": null,
   "metadata": {},
   "outputs": [],
   "source": []
  }
 ],
 "metadata": {
  "kernelspec": {
   "display_name": "Python 3",
   "language": "python",
   "name": "python3"
  },
  "language_info": {
   "codemirror_mode": {
    "name": "ipython",
    "version": 3
   },
   "file_extension": ".py",
   "mimetype": "text/x-python",
   "name": "python",
   "nbconvert_exporter": "python",
   "pygments_lexer": "ipython3",
   "version": "3.6.4"
  }
 },
 "nbformat": 4,
 "nbformat_minor": 2
}
